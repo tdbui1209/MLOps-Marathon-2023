{
 "cells": [
  {
   "cell_type": "code",
   "execution_count": 30,
   "id": "157ba5ef-08ed-4e01-9934-0d7e6a058a42",
   "metadata": {},
   "outputs": [],
   "source": [
    "from pathlib import Path\n",
    "import pandas as pd\n",
    "import json\n",
    "import numpy as np\n",
    "\n",
    "import matplotlib.pyplot as plt\n",
    "import seaborn as sns\n",
    "\n",
    "from sklearn.compose import ColumnTransformer\n",
    "from sklearn.model_selection import KFold, train_test_split, cross_validate, cross_val_score\n",
    "from sklearn.metrics import f1_score, auc, roc_curve, roc_auc_score\n",
    "from sklearn.linear_model import LogisticRegression\n",
    "from sklearn.tree import DecisionTreeClassifier\n",
    "from sklearn.ensemble import RandomForestClassifier\n",
    "from xgboost import XGBClassifier\n",
    "import lightgbm as lgbm\n",
    "from lightgbm import LGBMClassifier\n",
    "from catboost import CatBoostClassifier\n",
    "from sklearn.base import BaseEstimator, TransformerMixin\n",
    "from sklearn.pipeline import Pipeline\n",
    "from sklearn.preprocessing import OrdinalEncoder, OneHotEncoder, MaxAbsScaler, MinMaxScaler, Normalizer, PolynomialFeatures, RobustScaler, StandardScaler\n",
    "\n",
    "from imblearn.combine import SMOTEENN\n",
    "\n",
    "import mlflow\n",
    "\n",
    "random_seed = 42\n",
    "np.random.seed(random_seed)"
   ]
  },
  {
   "cell_type": "code",
   "execution_count": 2,
   "id": "a2e4395b-543e-463a-a331-7467b8db179e",
   "metadata": {},
   "outputs": [],
   "source": [
    "DATA_DIR = Path('./data/phase-1')\n",
    "DATA_DIR = DATA_DIR / 'prob-1'"
   ]
  },
  {
   "cell_type": "code",
   "execution_count": 3,
   "id": "f59ac588-3978-4f7b-bf5d-9b0c9fb4c973",
   "metadata": {},
   "outputs": [],
   "source": [
    "df_train = pd.read_parquet(DATA_DIR / 'raw_train.parquet', engine='fastparquet')\n",
    "df_description = pd.read_csv(DATA_DIR / 'description.csv')"
   ]
  },
  {
   "cell_type": "code",
   "execution_count": 4,
   "id": "677bfcd3",
   "metadata": {},
   "outputs": [],
   "source": [
    "with open(DATA_DIR / 'features_config.json') as file:\n",
    "    features_cfg = json.load(file)"
   ]
  },
  {
   "cell_type": "code",
   "execution_count": 5,
   "id": "c25b294e",
   "metadata": {},
   "outputs": [],
   "source": [
    "def trial(solution_pipeline, X, y, n_folds=5):\n",
    "    scores = {}\n",
    "\n",
    "    kf = KFold(n_splits=n_folds)\n",
    "    for train_index, val_index in kf.split(X, y):\n",
    "        X_train, X_val = X.iloc[train_index], X.iloc[val_index]\n",
    "        y_train, y_val = y.iloc[train_index], y.iloc[val_index]\n",
    "\n",
    "        solution_pipeline.fit(X_train, y_train)\n",
    "        score = solution_pipeline.score(X_val, y_val)\n",
    "        for s in score.keys():\n",
    "            if s not in scores.keys():\n",
    "                scores[s] = []\n",
    "            scores[s].append(score[s])\n",
    "            \n",
    "    \n",
    "    scores_df = pd.DataFrame({\n",
    "        'model': scores.keys(),\n",
    "        'mean': [np.mean(scores[name_model]) for name_model in scores],\n",
    "        'std': [np.std(scores[name_model]) for name_model in scores]\n",
    "     }).sort_values(by=['mean', 'std'], ascending=False)\n",
    "    \n",
    "    return scores_df"
   ]
  },
  {
   "attachments": {},
   "cell_type": "markdown",
   "id": "7c4a3c41-52af-4ebf-a75b-ea3002cfa87c",
   "metadata": {},
   "source": [
    "# 1. PROBLEM 1"
   ]
  },
  {
   "cell_type": "code",
   "execution_count": 6,
   "id": "eace446e-1dc4-4cb7-82d2-95877f27c12f",
   "metadata": {},
   "outputs": [
    {
     "data": {
      "text/html": [
       "<div>\n",
       "<style scoped>\n",
       "    .dataframe tbody tr th:only-of-type {\n",
       "        vertical-align: middle;\n",
       "    }\n",
       "\n",
       "    .dataframe tbody tr th {\n",
       "        vertical-align: top;\n",
       "    }\n",
       "\n",
       "    .dataframe thead th {\n",
       "        text-align: right;\n",
       "    }\n",
       "</style>\n",
       "<table border=\"1\" class=\"dataframe\">\n",
       "  <thead>\n",
       "    <tr style=\"text-align: right;\">\n",
       "      <th></th>\n",
       "      <th>Key</th>\n",
       "      <th>Value</th>\n",
       "    </tr>\n",
       "  </thead>\n",
       "  <tbody>\n",
       "    <tr>\n",
       "      <th>0</th>\n",
       "      <td>Source</td>\n",
       "      <td>MLOps</td>\n",
       "    </tr>\n",
       "    <tr>\n",
       "      <th>1</th>\n",
       "      <td>Label</td>\n",
       "      <td>is Fraud (1) or Not (0)</td>\n",
       "    </tr>\n",
       "    <tr>\n",
       "      <th>2</th>\n",
       "      <td>Train size</td>\n",
       "      <td>134201</td>\n",
       "    </tr>\n",
       "    <tr>\n",
       "      <th>3</th>\n",
       "      <td>Test size</td>\n",
       "      <td>297945</td>\n",
       "    </tr>\n",
       "    <tr>\n",
       "      <th>4</th>\n",
       "      <td>Description</td>\n",
       "      <td>The ML problem at hand involves predicting fra...</td>\n",
       "    </tr>\n",
       "  </tbody>\n",
       "</table>\n",
       "</div>"
      ],
      "text/plain": [
       "           Key                                              Value\n",
       "0       Source                                              MLOps\n",
       "1        Label                            is Fraud (1) or Not (0)\n",
       "2   Train size                                             134201\n",
       "3    Test size                                             297945\n",
       "4  Description  The ML problem at hand involves predicting fra..."
      ]
     },
     "execution_count": 6,
     "metadata": {},
     "output_type": "execute_result"
    }
   ],
   "source": [
    "df_description"
   ]
  },
  {
   "cell_type": "code",
   "execution_count": 7,
   "id": "b858a136-2ec6-453c-9c01-d002fea16697",
   "metadata": {},
   "outputs": [
    {
     "data": {
      "text/plain": [
       "\"The ML problem at hand involves predicting fraudulent transactions in a financial dataset. The target variable is 'label', which is a binary variable indicating whether a transaction is fraudulent or not.\""
      ]
     },
     "execution_count": 7,
     "metadata": {},
     "output_type": "execute_result"
    }
   ],
   "source": [
    "df_description.loc[df_description['Key'] == 'Description', 'Value'].values[0]"
   ]
  },
  {
   "cell_type": "code",
   "execution_count": 8,
   "id": "5665e725-aa0b-4e55-8a95-65222f8dc7b5",
   "metadata": {
    "scrolled": true
   },
   "outputs": [
    {
     "data": {
      "text/html": [
       "<div>\n",
       "<style scoped>\n",
       "    .dataframe tbody tr th:only-of-type {\n",
       "        vertical-align: middle;\n",
       "    }\n",
       "\n",
       "    .dataframe tbody tr th {\n",
       "        vertical-align: top;\n",
       "    }\n",
       "\n",
       "    .dataframe thead th {\n",
       "        text-align: right;\n",
       "    }\n",
       "</style>\n",
       "<table border=\"1\" class=\"dataframe\">\n",
       "  <thead>\n",
       "    <tr style=\"text-align: right;\">\n",
       "      <th></th>\n",
       "      <th>feature1</th>\n",
       "      <th>feature2</th>\n",
       "      <th>feature3</th>\n",
       "      <th>feature4</th>\n",
       "      <th>feature5</th>\n",
       "      <th>feature6</th>\n",
       "      <th>feature7</th>\n",
       "      <th>feature8</th>\n",
       "      <th>feature9</th>\n",
       "      <th>feature10</th>\n",
       "      <th>feature11</th>\n",
       "      <th>feature12</th>\n",
       "      <th>feature13</th>\n",
       "      <th>label</th>\n",
       "      <th>feature14</th>\n",
       "      <th>feature15</th>\n",
       "      <th>feature16</th>\n",
       "    </tr>\n",
       "  </thead>\n",
       "  <tbody>\n",
       "    <tr>\n",
       "      <th>0</th>\n",
       "      <td>Site engineer</td>\n",
       "      <td>grocery_pos</td>\n",
       "      <td>8.60</td>\n",
       "      <td>48230</td>\n",
       "      <td>40.213439</td>\n",
       "      <td>-85.203756</td>\n",
       "      <td>47583</td>\n",
       "      <td>42.508293</td>\n",
       "      <td>-83.168004</td>\n",
       "      <td>65.596062</td>\n",
       "      <td>3</td>\n",
       "      <td>5</td>\n",
       "      <td>1</td>\n",
       "      <td>1</td>\n",
       "      <td>8.017865</td>\n",
       "      <td>1.028822</td>\n",
       "      <td>58.911132</td>\n",
       "    </tr>\n",
       "    <tr>\n",
       "      <th>1</th>\n",
       "      <td>Site engineer</td>\n",
       "      <td>gas_transport</td>\n",
       "      <td>316.84</td>\n",
       "      <td>48230</td>\n",
       "      <td>44.379391</td>\n",
       "      <td>-82.859721</td>\n",
       "      <td>47583</td>\n",
       "      <td>42.661838</td>\n",
       "      <td>-81.966510</td>\n",
       "      <td>64.728795</td>\n",
       "      <td>6</td>\n",
       "      <td>5</td>\n",
       "      <td>1</td>\n",
       "      <td>1</td>\n",
       "      <td>11.768568</td>\n",
       "      <td>1.106217</td>\n",
       "      <td>64.431017</td>\n",
       "    </tr>\n",
       "    <tr>\n",
       "      <th>2</th>\n",
       "      <td>Site engineer</td>\n",
       "      <td>grocery_pos</td>\n",
       "      <td>294.89</td>\n",
       "      <td>48230</td>\n",
       "      <td>42.950657</td>\n",
       "      <td>-84.935542</td>\n",
       "      <td>47583</td>\n",
       "      <td>42.580470</td>\n",
       "      <td>-82.408529</td>\n",
       "      <td>65.434606</td>\n",
       "      <td>3</td>\n",
       "      <td>5</td>\n",
       "      <td>1</td>\n",
       "      <td>1</td>\n",
       "      <td>7.996359</td>\n",
       "      <td>0.899881</td>\n",
       "      <td>57.545348</td>\n",
       "    </tr>\n",
       "    <tr>\n",
       "      <th>3</th>\n",
       "      <td>Site engineer</td>\n",
       "      <td>shopping_net</td>\n",
       "      <td>831.08</td>\n",
       "      <td>48230</td>\n",
       "      <td>39.372111</td>\n",
       "      <td>-84.893973</td>\n",
       "      <td>47583</td>\n",
       "      <td>41.948688</td>\n",
       "      <td>-83.919881</td>\n",
       "      <td>64.990422</td>\n",
       "      <td>23</td>\n",
       "      <td>6</td>\n",
       "      <td>1</td>\n",
       "      <td>1</td>\n",
       "      <td>8.767720</td>\n",
       "      <td>1.062966</td>\n",
       "      <td>62.681169</td>\n",
       "    </tr>\n",
       "    <tr>\n",
       "      <th>4</th>\n",
       "      <td>Site engineer</td>\n",
       "      <td>health_fitness</td>\n",
       "      <td>1063.84</td>\n",
       "      <td>48230</td>\n",
       "      <td>41.227499</td>\n",
       "      <td>-83.228392</td>\n",
       "      <td>47583</td>\n",
       "      <td>41.544743</td>\n",
       "      <td>-82.123365</td>\n",
       "      <td>65.316083</td>\n",
       "      <td>23</td>\n",
       "      <td>6</td>\n",
       "      <td>1</td>\n",
       "      <td>1</td>\n",
       "      <td>8.816222</td>\n",
       "      <td>0.722446</td>\n",
       "      <td>63.084486</td>\n",
       "    </tr>\n",
       "  </tbody>\n",
       "</table>\n",
       "</div>"
      ],
      "text/plain": [
       "        feature1        feature2  feature3  feature4   feature5   feature6  \\\n",
       "0  Site engineer     grocery_pos      8.60     48230  40.213439 -85.203756   \n",
       "1  Site engineer   gas_transport    316.84     48230  44.379391 -82.859721   \n",
       "2  Site engineer     grocery_pos    294.89     48230  42.950657 -84.935542   \n",
       "3  Site engineer    shopping_net    831.08     48230  39.372111 -84.893973   \n",
       "4  Site engineer  health_fitness   1063.84     48230  41.227499 -83.228392   \n",
       "\n",
       "   feature7   feature8   feature9  feature10  feature11  feature12  feature13  \\\n",
       "0     47583  42.508293 -83.168004  65.596062          3          5          1   \n",
       "1     47583  42.661838 -81.966510  64.728795          6          5          1   \n",
       "2     47583  42.580470 -82.408529  65.434606          3          5          1   \n",
       "3     47583  41.948688 -83.919881  64.990422         23          6          1   \n",
       "4     47583  41.544743 -82.123365  65.316083         23          6          1   \n",
       "\n",
       "   label  feature14  feature15  feature16  \n",
       "0      1   8.017865   1.028822  58.911132  \n",
       "1      1  11.768568   1.106217  64.431017  \n",
       "2      1   7.996359   0.899881  57.545348  \n",
       "3      1   8.767720   1.062966  62.681169  \n",
       "4      1   8.816222   0.722446  63.084486  "
      ]
     },
     "execution_count": 8,
     "metadata": {},
     "output_type": "execute_result"
    }
   ],
   "source": [
    "df_train.head()"
   ]
  },
  {
   "cell_type": "code",
   "execution_count": 9,
   "id": "8ddc4253-9d56-47ec-a1a1-f302c7fc6f68",
   "metadata": {},
   "outputs": [
    {
     "name": "stdout",
     "output_type": "stream",
     "text": [
      "<class 'pandas.core.frame.DataFrame'>\n",
      "RangeIndex: 134201 entries, 0 to 134200\n",
      "Data columns (total 17 columns):\n",
      " #   Column     Non-Null Count   Dtype  \n",
      "---  ------     --------------   -----  \n",
      " 0   feature1   134201 non-null  object \n",
      " 1   feature2   134201 non-null  object \n",
      " 2   feature3   134201 non-null  float64\n",
      " 3   feature4   134201 non-null  int64  \n",
      " 4   feature5   134201 non-null  float64\n",
      " 5   feature6   134201 non-null  float64\n",
      " 6   feature7   134201 non-null  int64  \n",
      " 7   feature8   134201 non-null  float64\n",
      " 8   feature9   134201 non-null  float64\n",
      " 9   feature10  134201 non-null  float64\n",
      " 10  feature11  134201 non-null  int64  \n",
      " 11  feature12  134201 non-null  int64  \n",
      " 12  feature13  134201 non-null  int64  \n",
      " 13  label      134201 non-null  int64  \n",
      " 14  feature14  134201 non-null  float64\n",
      " 15  feature15  134201 non-null  float64\n",
      " 16  feature16  134201 non-null  float64\n",
      "dtypes: float64(9), int64(6), object(2)\n",
      "memory usage: 17.4+ MB\n"
     ]
    }
   ],
   "source": [
    "df_train.info()"
   ]
  },
  {
   "cell_type": "code",
   "execution_count": 10,
   "id": "834aaabe-0605-4ffc-9075-c12200a12289",
   "metadata": {},
   "outputs": [
    {
     "data": {
      "text/plain": [
       "feature1     0\n",
       "feature2     0\n",
       "feature3     0\n",
       "feature4     0\n",
       "feature5     0\n",
       "feature6     0\n",
       "feature7     0\n",
       "feature8     0\n",
       "feature9     0\n",
       "feature10    0\n",
       "feature11    0\n",
       "feature12    0\n",
       "feature13    0\n",
       "label        0\n",
       "feature14    0\n",
       "feature15    0\n",
       "feature16    0\n",
       "dtype: int64"
      ]
     },
     "execution_count": 10,
     "metadata": {},
     "output_type": "execute_result"
    }
   ],
   "source": [
    "# Số lượng giá trị NaN\n",
    "\n",
    "df_train.isna().sum()"
   ]
  },
  {
   "attachments": {},
   "cell_type": "markdown",
   "id": "a7accde5-0f35-401e-9c47-4bcd7978b68d",
   "metadata": {},
   "source": [
    "**Kết luận**: Không có giá trị NaN"
   ]
  },
  {
   "cell_type": "code",
   "execution_count": 11,
   "id": "7440adc3-2d04-44bc-bcbb-c9f4cf31d16c",
   "metadata": {},
   "outputs": [
    {
     "data": {
      "image/png": "[encoded data removed]",
      "text/plain": [
       "<Figure size 640x480 with 1 Axes>"
      ]
     },
     "metadata": {},
     "output_type": "display_data"
    }
   ],
   "source": [
    "sns.countplot(data=df_train, x='label')\n",
    "plt.show()"
   ]
  },
  {
   "attachments": {},
   "cell_type": "markdown",
   "id": "878981bd-0dbc-429f-aca6-df4f301966c7",
   "metadata": {},
   "source": [
    "**Kết luận**: Target bị mất cân bằng"
   ]
  },
  {
   "attachments": {},
   "cell_type": "markdown",
   "id": "aa10e902-849d-473e-b32b-8b69fe108f89",
   "metadata": {},
   "source": [
    "# 1.1. Prepare data"
   ]
  },
  {
   "cell_type": "code",
   "execution_count": 12,
   "id": "3cb523ca",
   "metadata": {},
   "outputs": [],
   "source": [
    "target_column = features_cfg['target_column']\n",
    "category_columns = features_cfg['category_columns']\n",
    "numeric_columns = features_cfg['numeric_columns']"
   ]
  },
  {
   "cell_type": "code",
   "execution_count": 13,
   "id": "7f4762c0",
   "metadata": {},
   "outputs": [],
   "source": [
    "X = df_train.copy()\n",
    "y = X.pop(target_column)"
   ]
  },
  {
   "attachments": {},
   "cell_type": "markdown",
   "id": "735c53a7",
   "metadata": {},
   "source": [
    "## 1.2. Define models"
   ]
  },
  {
   "cell_type": "code",
   "execution_count": 14,
   "id": "8eb8c988",
   "metadata": {},
   "outputs": [],
   "source": [
    "class BaselineModels:\n",
    "    \n",
    "    def __init__(self, random_state=42):\n",
    "        self.random_state=random_state\n",
    "        self.baseline_models = {\n",
    "            # 'linear_model': LogisticRegression(),\n",
    "            # 'decision_tree': DecisionTreeClassifier(random_state=self.random_state),\n",
    "            # 'random_forest': RandomForestClassifier(random_state=self.random_state),\n",
    "            # 'xgb': XGBClassifier(random_state=self.random_state, tree_method='gpu_hist'),\n",
    "            'lightgbm': LGBMClassifier(random_state=self.random_state, verbose=-1, device='gpu'),\n",
    "            # 'catboost': CatBoostClassifier(random_state=self.random_state, verbose=False, task_type='GPU')\n",
    "        }\n",
    "        \n",
    "    def fit(self, X_train, y_train):\n",
    "        for model in self.baseline_models:\n",
    "            self.baseline_models[model].fit(X_train, y_train)\n",
    "        return self\n",
    "    \n",
    "    def predict(self, X_test):\n",
    "        preds = {}\n",
    "        for model in self.baseline_models:\n",
    "            y_pred = self.baseline_models[model].predict(X_test)\n",
    "            preds[model] = y_pred\n",
    "        return preds\n",
    "    \n",
    "    def score(self, X_test, y_test):\n",
    "        scores = {}\n",
    "        for model in self.baseline_models:\n",
    "            y_pred = self.baseline_models[model].predict(X_test)\n",
    "            scores[model] = f1_score(y_test, y_pred)\n",
    "        return scores"
   ]
  },
  {
   "attachments": {},
   "cell_type": "markdown",
   "id": "76dde20f",
   "metadata": {},
   "source": [
    "## 1.3. Solutions"
   ]
  },
  {
   "attachments": {},
   "cell_type": "markdown",
   "id": "2eed4e01",
   "metadata": {},
   "source": [
    "### 1.3.1. Drop categorical features"
   ]
  },
  {
   "cell_type": "code",
   "execution_count": 38,
   "id": "331f0934",
   "metadata": {},
   "outputs": [],
   "source": [
    "class DropFeatureTransformer():\n",
    "    \n",
    "    def __init__(self, cols=[]):\n",
    "        self.cols = cols\n",
    "\n",
    "    def fit(self, X, y=None):\n",
    "        return self\n",
    "    \n",
    "    def transform(self, X):\n",
    "        return X.drop(self.cols, axis=1).copy()"
   ]
  },
  {
   "cell_type": "code",
   "execution_count": 39,
   "id": "9e08be16",
   "metadata": {},
   "outputs": [],
   "source": [
    "solution_1_pipeline = Pipeline([\n",
    "    ('drop_categorical_feature', DropFeatureTransformer(cols=category_columns)),\n",
    "    ('baseline_models', BaselineModels(random_state=random_seed))\n",
    "])"
   ]
  },
  {
   "cell_type": "code",
   "execution_count": 40,
   "id": "e8693c5e",
   "metadata": {},
   "outputs": [
    {
     "name": "stderr",
     "output_type": "stream",
     "text": [
      "d:\\MLOps-Marathon-2023\\venv\\lib\\site-packages\\sklearn\\linear_model\\_logistic.py:458: ConvergenceWarning: lbfgs failed to converge (status=1):\n",
      "STOP: TOTAL NO. of ITERATIONS REACHED LIMIT.\n",
      "\n",
      "Increase the number of iterations (max_iter) or scale the data as shown in:\n",
      "    https://scikit-learn.org/stable/modules/preprocessing.html\n",
      "Please also refer to the documentation for alternative solver options:\n",
      "    https://scikit-learn.org/stable/modules/linear_model.html#logistic-regression\n",
      "  n_iter_i = _check_optimize_result(\n"
     ]
    },
    {
     "data": {
      "text/html": [
       "<div>\n",
       "<style scoped>\n",
       "    .dataframe tbody tr th:only-of-type {\n",
       "        vertical-align: middle;\n",
       "    }\n",
       "\n",
       "    .dataframe tbody tr th {\n",
       "        vertical-align: top;\n",
       "    }\n",
       "\n",
       "    .dataframe thead th {\n",
       "        text-align: right;\n",
       "    }\n",
       "</style>\n",
       "<table border=\"1\" class=\"dataframe\">\n",
       "  <thead>\n",
       "    <tr style=\"text-align: right;\">\n",
       "      <th></th>\n",
       "      <th>model</th>\n",
       "      <th>mean</th>\n",
       "      <th>std</th>\n",
       "    </tr>\n",
       "  </thead>\n",
       "  <tbody>\n",
       "    <tr>\n",
       "      <th>0</th>\n",
       "      <td>linear_model</td>\n",
       "      <td>0.588764</td>\n",
       "      <td>0.074366</td>\n",
       "    </tr>\n",
       "    <tr>\n",
       "      <th>1</th>\n",
       "      <td>decision_tree</td>\n",
       "      <td>0.875349</td>\n",
       "      <td>0.032968</td>\n",
       "    </tr>\n",
       "    <tr>\n",
       "      <th>2</th>\n",
       "      <td>random_forest</td>\n",
       "      <td>0.920087</td>\n",
       "      <td>0.029958</td>\n",
       "    </tr>\n",
       "    <tr>\n",
       "      <th>4</th>\n",
       "      <td>lightgbm</td>\n",
       "      <td>0.936643</td>\n",
       "      <td>0.019072</td>\n",
       "    </tr>\n",
       "    <tr>\n",
       "      <th>3</th>\n",
       "      <td>xgb</td>\n",
       "      <td>0.936985</td>\n",
       "      <td>0.019338</td>\n",
       "    </tr>\n",
       "    <tr>\n",
       "      <th>5</th>\n",
       "      <td>catboost</td>\n",
       "      <td>0.940917</td>\n",
       "      <td>0.017850</td>\n",
       "    </tr>\n",
       "  </tbody>\n",
       "</table>\n",
       "</div>"
      ],
      "text/plain": [
       "           model      mean       std\n",
       "0   linear_model  0.588764  0.074366\n",
       "1  decision_tree  0.875349  0.032968\n",
       "2  random_forest  0.920087  0.029958\n",
       "4       lightgbm  0.936643  0.019072\n",
       "3            xgb  0.936985  0.019338\n",
       "5       catboost  0.940917  0.017850"
      ]
     },
     "execution_count": 40,
     "metadata": {},
     "output_type": "execute_result"
    }
   ],
   "source": [
    "trial(solution_1_pipeline, X, y)"
   ]
  },
  {
   "cell_type": "code",
   "execution_count": 14,
   "id": "530dc352-b77e-4dad-95fa-ed770ef9c78c",
   "metadata": {},
   "outputs": [],
   "source": [
    "def print_auto_logged_info(run):\n",
    "    tags = {k: v for k, v in run.data.tags.items() if not k.startswith(\"mlflow.\")}\n",
    "    artifacts = [\n",
    "        f.path for f in mlflow.MlflowClient().list_artifacts(run.info.run_id, \"model\")\n",
    "    ]\n",
    "    feature_importances = [\n",
    "        f.path\n",
    "        for f in mlflow.MlflowClient().list_artifacts(run.info.run_id)\n",
    "        if f.path != \"model\"\n",
    "    ]\n",
    "    print(f\"run_id: {run.info.run_id}\")\n",
    "    print(f\"artifacts: {artifacts}\")\n",
    "    print(f\"feature_importances: {feature_importances}\")\n",
    "    print(f\"params: {run.data.params}\")\n",
    "    print(f\"metrics: {run.data.metrics}\")\n",
    "    print(f\"tags: {tags}\")"
   ]
  },
  {
   "cell_type": "code",
   "execution_count": 19,
   "id": "60b83f8b-b7bf-4890-a522-72c8ecf1b905",
   "metadata": {},
   "outputs": [],
   "source": [
    "X_train, X_val, y_train, y_val = train_test_split(X, y, stratify=y, random_state=42)\n",
    "\n",
    "encoder = OneHotEncoder(drop='first', sparse_output=False, handle_unknown='ignore')\n",
    "OH_X_train = pd.DataFrame(encoder.fit_transform(X_train[category_columns]))\n",
    "OH_X_val = pd.DataFrame(encoder.transform(X_val[category_columns]))\n",
    "OH_X_train.columns = [str(col) + '_cat' for col in OH_X_train.columns]\n",
    "OH_X_val.columns = [str(col) + '_cat' for col in OH_X_val.columns]\n",
    "\n",
    "scaler = StandardScaler()\n",
    "scaled_X_train = scaler.fit_transform(X_train[numeric_columns])\n",
    "scaled_X_val = scaler.transform(X_val[numeric_columns])\n",
    "\n",
    "poly = PolynomialFeatures(2)\n",
    "poly_X_train = pd.DataFrame(poly.fit_transform(scaled_X_train))\n",
    "poly_X_val = pd.DataFrame(poly.transform(scaled_X_val))\n",
    "\n",
    "X_train = pd.concat([OH_X_train, poly_X_train], axis=1)\n",
    "X_val = pd.concat([OH_X_val, poly_X_val], axis=1)\n",
    "\n",
    "model = LGBMClassifier(random_state=42, verbose=-1, device='gpu')\n",
    "mlflow.lightgbm.autolog()\n",
    "\n",
    "with mlflow.start_run() as run:\n",
    "    model.fit(X_train, y_train)\n",
    "    y_pred = model.predict(X_val)\n",
    "    fpr, tpr, thresholds = roc_curve(y_val, y_pred, pos_label=1)\n",
    "    score = auc(fpr, tpr)\n",
    "    mlflow.log_metric('auc', score)"
   ]
  },
  {
   "cell_type": "code",
   "execution_count": 20,
   "id": "f4103a42-6c99-4cfc-a56d-9862088cc3f9",
   "metadata": {},
   "outputs": [
    {
     "name": "stdout",
     "output_type": "stream",
     "text": [
      "run_id: d97d6d0f63984aee8896380e5b683318\n",
      "artifacts: ['model/MLmodel', 'model/conda.yaml', 'model/model.pkl', 'model/python_env.yaml', 'model/requirements.txt']\n",
      "feature_importances: ['feature_importance_gain.json', 'feature_importance_gain.png', 'feature_importance_split.json', 'feature_importance_split.png']\n",
      "params: {'boosting_type': 'gbdt', 'categorical_feature': 'auto', 'colsample_bytree': '1.0', 'device': 'gpu', 'early_stopping_rounds': 'None', 'evals_result': 'None', 'feature_name': 'auto', 'keep_training_booster': 'False', 'learning_rate': '0.1', 'max_depth': '-1', 'metric': \"['binary']\", 'min_child_samples': '20', 'min_child_weight': '0.001', 'min_split_gain': '0.0', 'num_boost_round': '100', 'num_leaves': '31', 'n_jobs': '-1', 'objective': 'binary', 'random_state': '42', 'reg_alpha': '0.0', 'reg_lambda': '0.0', 'subsample': '1.0', 'subsample_for_bin': '200000', 'subsample_freq': '0', 'verbose': '-1', 'verbose_eval': 'warn'}\n",
      "metrics: {'auc': 0.9704341352575249}\n",
      "tags: {}\n"
     ]
    }
   ],
   "source": [
    "print_auto_logged_info(mlflow.get_run(run_id=run.info.run_id))"
   ]
  },
  {
   "cell_type": "code",
   "execution_count": 24,
   "id": "bf460e0a-f032-4f0b-b4bd-72daa182ddaa",
   "metadata": {},
   "outputs": [
    {
     "data": {
      "text/html": [
       "<style>#sk-container-id-1 {color: black;background-color: white;}#sk-container-id-1 pre{padding: 0;}#sk-container-id-1 div.sk-toggleable {background-color: white;}#sk-container-id-1 label.sk-toggleable__label {cursor: pointer;display: block;width: 100%;margin-bottom: 0;padding: 0.3em;box-sizing: border-box;text-align: center;}#sk-container-id-1 label.sk-toggleable__label-arrow:before {content: \"▸\";float: left;margin-right: 0.25em;color: #696969;}#sk-container-id-1 label.sk-toggleable__label-arrow:hover:before {color: black;}#sk-container-id-1 div.sk-estimator:hover label.sk-toggleable__label-arrow:before {color: black;}#sk-container-id-1 div.sk-toggleable__content {max-height: 0;max-width: 0;overflow: hidden;text-align: left;background-color: #f0f8ff;}#sk-container-id-1 div.sk-toggleable__content pre {margin: 0.2em;color: black;border-radius: 0.25em;background-color: #f0f8ff;}#sk-container-id-1 input.sk-toggleable__control:checked~div.sk-toggleable__content {max-height: 200px;max-width: 100%;overflow: auto;}#sk-container-id-1 input.sk-toggleable__control:checked~label.sk-toggleable__label-arrow:before {content: \"▾\";}#sk-container-id-1 div.sk-estimator input.sk-toggleable__control:checked~label.sk-toggleable__label {background-color: #d4ebff;}#sk-container-id-1 div.sk-label input.sk-toggleable__control:checked~label.sk-toggleable__label {background-color: #d4ebff;}#sk-container-id-1 input.sk-hidden--visually {border: 0;clip: rect(1px 1px 1px 1px);clip: rect(1px, 1px, 1px, 1px);height: 1px;margin: -1px;overflow: hidden;padding: 0;position: absolute;width: 1px;}#sk-container-id-1 div.sk-estimator {font-family: monospace;background-color: #f0f8ff;border: 1px dotted black;border-radius: 0.25em;box-sizing: border-box;margin-bottom: 0.5em;}#sk-container-id-1 div.sk-estimator:hover {background-color: #d4ebff;}#sk-container-id-1 div.sk-parallel-item::after {content: \"\";width: 100%;border-bottom: 1px solid gray;flex-grow: 1;}#sk-container-id-1 div.sk-label:hover label.sk-toggleable__label {background-color: #d4ebff;}#sk-container-id-1 div.sk-serial::before {content: \"\";position: absolute;border-left: 1px solid gray;box-sizing: border-box;top: 0;bottom: 0;left: 50%;z-index: 0;}#sk-container-id-1 div.sk-serial {display: flex;flex-direction: column;align-items: center;background-color: white;padding-right: 0.2em;padding-left: 0.2em;position: relative;}#sk-container-id-1 div.sk-item {position: relative;z-index: 1;}#sk-container-id-1 div.sk-parallel {display: flex;align-items: stretch;justify-content: center;background-color: white;position: relative;}#sk-container-id-1 div.sk-item::before, #sk-container-id-1 div.sk-parallel-item::before {content: \"\";position: absolute;border-left: 1px solid gray;box-sizing: border-box;top: 0;bottom: 0;left: 50%;z-index: -1;}#sk-container-id-1 div.sk-parallel-item {display: flex;flex-direction: column;z-index: 1;position: relative;background-color: white;}#sk-container-id-1 div.sk-parallel-item:first-child::after {align-self: flex-end;width: 50%;}#sk-container-id-1 div.sk-parallel-item:last-child::after {align-self: flex-start;width: 50%;}#sk-container-id-1 div.sk-parallel-item:only-child::after {width: 0;}#sk-container-id-1 div.sk-dashed-wrapped {border: 1px dashed gray;margin: 0 0.4em 0.5em 0.4em;box-sizing: border-box;padding-bottom: 0.4em;background-color: white;}#sk-container-id-1 div.sk-label label {font-family: monospace;font-weight: bold;display: inline-block;line-height: 1.2em;}#sk-container-id-1 div.sk-label-container {text-align: center;}#sk-container-id-1 div.sk-container {/* jupyter's `normalize.less` sets `[hidden] { display: none; }` but bootstrap.min.css set `[hidden] { display: none !important; }` so we also need the `!important` here to be able to override the default hidden behavior on the sphinx rendered scikit-learn.org. See: https://github.com/scikit-learn/scikit-learn/issues/21755 */display: inline-block !important;position: relative;}#sk-container-id-1 div.sk-text-repr-fallback {display: none;}</style><div id=\"sk-container-id-1\" class=\"sk-top-container\"><div class=\"sk-text-repr-fallback\"><pre>LGBMClassifier(device=&#x27;gpu&#x27;, random_state=42, verbose=-1)</pre><b>In a Jupyter environment, please rerun this cell to show the HTML representation or trust the notebook. <br />On GitHub, the HTML representation is unable to render, please try loading this page with nbviewer.org.</b></div><div class=\"sk-container\" hidden><div class=\"sk-item\"><div class=\"sk-estimator sk-toggleable\"><input class=\"sk-toggleable__control sk-hidden--visually\" id=\"sk-estimator-id-1\" type=\"checkbox\" checked><label for=\"sk-estimator-id-1\" class=\"sk-toggleable__label sk-toggleable__label-arrow\">LGBMClassifier</label><div class=\"sk-toggleable__content\"><pre>LGBMClassifier(device=&#x27;gpu&#x27;, random_state=42, verbose=-1)</pre></div></div></div></div></div>"
      ],
      "text/plain": [
       "LGBMClassifier(device='gpu', random_state=42, verbose=-1)"
      ]
     },
     "execution_count": 24,
     "metadata": {},
     "output_type": "execute_result"
    }
   ],
   "source": [
    "model = LGBMClassifier(random_state=42, verbose=-1, device='gpu')\n",
    "model.fit(X_train, y_train)"
   ]
  },
  {
   "cell_type": "code",
   "execution_count": 27,
   "id": "946660c1-2e96-4ccf-a1b4-00e57d139c58",
   "metadata": {},
   "outputs": [],
   "source": [
    "y_pred = model.predict(X_val)\n",
    "fpr, tpr, thresholds = roc_curve(y_val, y_pred, pos_label=1)\n",
    "score = auc(fpr, tpr)"
   ]
  },
  {
   "cell_type": "code",
   "execution_count": 47,
   "id": "d829e177-2071-4232-ab4f-d2900a78faa8",
   "metadata": {},
   "outputs": [],
   "source": [
    "y_prob = model.predict_proba(X_val)\n",
    "a = []\n",
    "for i in np.arange(0, 1, 0.001):\n",
    "    y_pred = []\n",
    "    for j in y_prob:\n",
    "        if (j[0] > i):\n",
    "            y_pred.append(0)\n",
    "        else:\n",
    "            y_pred.append(1)\n",
    "    fpr, tpr, thresholds = roc_curve(y_val, y_pred, pos_label=1)\n",
    "    a.append(auc(fpr, tpr))"
   ]
  },
  {
   "cell_type": "code",
   "execution_count": 50,
   "id": "9440b5e3-768d-466a-acde-36c9be6b8704",
   "metadata": {},
   "outputs": [
    {
     "data": {
      "image/png": "[encoded data removed]",
      "text/plain": [
       "<Figure size 640x480 with 1 Axes>"
      ]
     },
     "metadata": {},
     "output_type": "display_data"
    }
   ],
   "source": [
    "plt.plot(a)\n",
    "plt.xticks(np.arange(0, 1, 0.001))\n",
    "plt.show()"
   ]
  },
  {
   "cell_type": "code",
   "execution_count": 15,
   "id": "c0163624-ea6f-4a55-ba5d-1df54be943c4",
   "metadata": {},
   "outputs": [],
   "source": []
  },
  {
   "cell_type": "code",
   "execution_count": 20,
   "id": "c66ffab6-e120-4532-a700-9a9ae2307bff",
   "metadata": {},
   "outputs": [],
   "source": [
    "def trial(X, y, n_folds=5):\n",
    "    scores = []\n",
    "\n",
    "    kf = KFold(n_splits=n_folds)\n",
    "    for idx, (train_index, val_index) in enumerate(kf.split(X, y)):\n",
    "        print(f'Fold: {idx + 1}')\n",
    "\n",
    "        smote_enn = SMOTEENN(random_state=42)\n",
    "        X_train, X_val, y_train, y_val = train_test_split(X, y, stratify=y, random_state=42)\n",
    "\n",
    "        encoder = OneHotEncoder(drop='first', sparse_output=False, handle_unknown='ignore')\n",
    "        OH_X_train = pd.DataFrame(encoder.fit_transform(X_train[category_columns]))\n",
    "        OH_X_val = pd.DataFrame(encoder.transform(X_val[category_columns]))\n",
    "        OH_X_train.columns = [str(col) + '_cat' for col in OH_X_train.columns]\n",
    "        OH_X_val.columns = [str(col) + '_cat' for col in OH_X_val.columns]\n",
    "        \n",
    "        scaler = StandardScaler()\n",
    "        scaled_X_train = scaler.fit_transform(X_train[numeric_columns])\n",
    "        scaled_X_val = scaler.transform(X_val[numeric_columns])\n",
    "        \n",
    "        poly = PolynomialFeatures(2)\n",
    "        poly_X_train = pd.DataFrame(poly.fit_transform(scaled_X_train))\n",
    "        poly_X_val = pd.DataFrame(poly.transform(scaled_X_val))\n",
    "        \n",
    "        X_train = pd.concat([OH_X_train, poly_X_train], axis=1)\n",
    "        X_val = pd.concat([OH_X_val, poly_X_val], axis=1)\n",
    "\n",
    "        X_train.columns = X_train.columns.astype(str)\n",
    "        X_val.columns = X_val.columns.astype(str)\n",
    "\n",
    "        X_train, y_train = smote_enn.fit_resample(X_train, y_train)\n",
    "\n",
    "        model = LGBMClassifier(random_state=42, verbose=-1, device='gpu')\n",
    "        model.fit(X_train, y_train)\n",
    "\n",
    "        y_pred = model.predict(X_val)\n",
    "\n",
    "        fpr, tpr, thresholds = roc_curve(y_val, y_pred, pos_label=1)\n",
    "        scores.append(auc(fpr, tpr))\n",
    "    \n",
    "    return scores"
   ]
  },
  {
   "cell_type": "code",
   "execution_count": 21,
   "id": "26ad359a-d066-4433-b701-1b26a12a2eec",
   "metadata": {},
   "outputs": [
    {
     "name": "stdout",
     "output_type": "stream",
     "text": [
      "Fold: 1\n",
      "Fold: 2\n",
      "Fold: 3\n",
      "Fold: 4\n",
      "Fold: 5\n"
     ]
    }
   ],
   "source": [
    "scores = trial(X, y)"
   ]
  },
  {
   "cell_type": "code",
   "execution_count": 22,
   "id": "0f350a59-e1c4-4692-b03a-ebac2177054f",
   "metadata": {},
   "outputs": [
    {
     "data": {
      "text/plain": [
       "[0.9798847800633483,\n",
       " 0.9807182738438411,\n",
       " 0.9807182738438411,\n",
       " 0.9807182738438411,\n",
       " 0.9807182738438411]"
      ]
     },
     "execution_count": 22,
     "metadata": {},
     "output_type": "execute_result"
    }
   ],
   "source": [
    "scores"
   ]
  },
  {
   "cell_type": "code",
   "execution_count": 15,
   "id": "80acd76f-7f61-4ec8-aae9-36d976f929e1",
   "metadata": {},
   "outputs": [
    {
     "name": "stderr",
     "output_type": "stream",
     "text": [
      "2023/06/26 17:49:07 INFO mlflow.tracking.fluent: Autologging successfully enabled for xgboost.\n",
      "2023/06/26 17:49:07 INFO mlflow.tracking.fluent: Autologging successfully enabled for lightgbm.\n",
      "2023/06/26 17:49:08 INFO mlflow.tracking.fluent: Autologging successfully enabled for sklearn.\n"
     ]
    }
   ],
   "source": [
    "mlflow.autolog()"
   ]
  },
  {
   "cell_type": "code",
   "execution_count": 34,
   "id": "b241a899-4802-47da-9422-0aa269d03fce",
   "metadata": {},
   "outputs": [
    {
     "name": "stdout",
     "output_type": "stream",
     "text": [
      "0.9701828204746994\n"
     ]
    }
   ],
   "source": [
    "smote_enn = SMOTEENN(random_state=42)\n",
    "\n",
    "X_train, X_val, y_train, y_val = train_test_split(X, y, stratify=y, random_state=42)\n",
    "\n",
    "encoder = OneHotEncoder(drop='first', sparse_output=False, handle_unknown='ignore')\n",
    "OH_X_train = pd.DataFrame(encoder.fit_transform(X_train[category_columns]))\n",
    "OH_X_val = pd.DataFrame(encoder.transform(X_val[category_columns]))\n",
    "OH_X_train.columns = [str(col) + '_cat' for col in OH_X_train.columns]\n",
    "OH_X_val.columns = [str(col) + '_cat' for col in OH_X_val.columns]\n",
    "\n",
    "scaler = StandardScaler()\n",
    "scaled_X_train = scaler.fit_transform(X_train[numeric_columns])\n",
    "scaled_X_val = scaler.transform(X_val[numeric_columns])\n",
    "\n",
    "poly = PolynomialFeatures(2)\n",
    "poly_X_train = pd.DataFrame(poly.fit_transform(scaled_X_train))\n",
    "poly_X_val = pd.DataFrame(poly.transform(scaled_X_val))\n",
    "\n",
    "X_train = pd.concat([OH_X_train, poly_X_train], axis=1)\n",
    "X_val = pd.concat([OH_X_val, poly_X_val], axis=1)\n",
    "\n",
    "X_train.columns = X_train.columns.astype(str)\n",
    "X_val.columns = X_val.columns.astype(str)\n",
    "\n",
    "model = LGBMClassifier(random_state=42, verbose=-1, device='gpu')\n",
    "\n",
    "model.fit(X_train, y_train)\n",
    "\n",
    "y_pred = model.predict(X_val)\n",
    "fpr, tpr, thresholds = roc_curve(y_val, y_pred, pos_label=1)\n",
    "print(auc(fpr, tpr))"
   ]
  },
  {
   "cell_type": "code",
   "execution_count": null,
   "id": "e3abb0d9-7a0e-4503-a9bd-5acc141ac188",
   "metadata": {},
   "outputs": [
    {
     "name": "stderr",
     "output_type": "stream",
     "text": [
      "2023/06/26 18:26:40 WARNING mlflow.sklearn: Training metrics will not be recorded because training labels were not specified. To automatically record training metrics, provide training labels as inputs to the model training function.\n",
      "2023/06/26 18:26:40 WARNING mlflow.sklearn: Failed to infer model signature: the trained model does not specify a `predict` function, which is required in order to infer the signature\n",
      "2023/06/26 18:26:40 WARNING mlflow.sklearn: Model was missing function: predict. Not logging python_function flavor!\n"
     ]
    }
   ],
   "source": [
    "X_train, y_train = smote_enn.fit_resample(X_train, y_train)\n",
    "\n",
    "model = LGBMClassifier(random_state=42, verbose=-1, device='gpu')\n",
    "model.fit(X_train, y_train)\n",
    "\n",
    "y_pred = model.predict(X_val)\n",
    "fpr, tpr, thresholds = roc_curve(y_val, y_pred, pos_label=1)\n",
    "score = auc(fpr, tpr)\n",
    "mlflow.log_metric('auc', score)\n",
    "print(score)"
   ]
  },
  {
   "cell_type": "code",
   "execution_count": 41,
   "id": "dc057529-637f-42f7-99e0-10b5216be8a9",
   "metadata": {},
   "outputs": [],
   "source": [
    "def objective(trial, X_train=X_train, X_val=X_val, y_train=y_train, y_val=y_val):\n",
    "    params = {\n",
    "        'learning_rate': trial.suggest_float('learning_rate', 0.0001, 1),\n",
    "        'n_estimators': trial.suggest_int('n_estimators', 2, 8000),\n",
    "        'num_leaves': trial.suggest_int('num_leaves', 1, 1000),\n",
    "        'tree_learner': trial.suggest_categorical('tree_learner', ['serial', 'feature', 'data', 'voting']),\n",
    "        'max_depth': trial.suggest_int('max_depth', -1, 15),\n",
    "        'min_data_in_leaf': trial.suggest_int('min_data_in_leaf', 1, 40),\n",
    "        'min_sum_hessian_in_leaf': trial.suggest_float('min_sum_hessian_in_leaf', 0.0001, 1),\n",
    "        'bagging_fraction': trial.suggest_float('bagging_fraction', 0.001, 1),\n",
    "        'pos_bagging_fraction': trial.suggest_float('pos_bagging_fraction', 0.001, 1),\n",
    "        'neg_bagging_fraction': trial.suggest_float('neg_bagging_fraction', 0.001, 1),\n",
    "        'bagging_freq': trial.suggest_int('bagging_freq', 0, 30),\n",
    "        'feature_fraction': trial.suggest_float('feature_fraction', 0, 1),\n",
    "        'feature_fraction_bynode': trial.suggest_float('feature_fraction_bynod', 0, 1),\n",
    "        'extra_trees': trial.suggest_categorical('extra_trees', [True, False]),\n",
    "        'lambda_l1': trial.suggest_float('lambda_l1', 0, 1),\n",
    "        'linear_lambda': trial.suggest_float('linear_lambda', 0, 1),\n",
    "        'max_delta_step': trial.suggest_int('max_delta_step', -1, 15),\n",
    "        'min_gain_to_split': trial.suggest_int('min_gain_to_split', 0, 30),\n",
    "        'verbose': -1\n",
    "    }\n",
    "\n",
    "    model = LGBMClassifier(**params, objective='binary', device_type='gpu', random_state=42, early_stopping_round=300, verbose_eval=False)\n",
    "    model.fit(X_train, y_train, eval_set=[(X_val, y_val)], callbacks=[lgbm.log_evaluation(0)])\n",
    "    \n",
    "    y_pred = model.predict(X_val)\n",
    "\n",
    "    fpr, tpr, thresholds = roc_curve(y_val, y_pred, pos_label=1)\n",
    "    score = auc(fpr, tpr)\n",
    "    return score"
   ]
  },
  {
   "cell_type": "code",
   "execution_count": null,
   "id": "352ffaac-eb80-4ad5-8953-cd4ef92b52ad",
   "metadata": {},
   "outputs": [],
   "source": [
    "import optuna\n",
    "\n",
    "study = optuna.create_study(direction='maximize')\n",
    "study.optimize(objective, n_trials=200)\n",
    "print('Number of finished trials:', len(study.trials))\n",
    "print('Best trial:', study.best_trial.params)"
   ]
  },
  {
   "cell_type": "code",
   "execution_count": null,
   "id": "a12ae8b1-b339-4211-bd59-066ef104feee",
   "metadata": {},
   "outputs": [],
   "source": [
    "params = {'learning_rate': 0.2486410439277429, 'n_estimators': 7452, 'num_leaves': 849, 'tree_learner': 'voting', 'max_depth': 5, 'min_data_in_leaf': 10, 'min_sum_hessian_in_leaf': 0.8955809728109798, 'bagging_fraction': 0.09043905511382372, 'pos_bagging_fraction': 0.9012054185024574, 'neg_bagging_fraction': 0.7865520573440599, 'bagging_freq': 13, 'feature_fraction': 0.7319641299117381, 'feature_fraction_bynode': 0.9241064494822343, 'extra_trees': False, 'lambda_l1': 0.2446767921786603, 'linear_lambda': 0.2943466035061232, 'max_delta_step': 4, 'min_gain_to_split': 1}\n",
    "\n",
    "model = LGBMClassifier(**params, objective='binary', device_type='gpu', random_state=42, early_stopping_round=300, verbose_eval=False)\n",
    "model.fit(X_train, y_train, eval_set=[(X_val, y_val)], callbacks=[lgbm.log_evaluation(0)])"
   ]
  },
  {
   "cell_type": "code",
   "execution_count": null,
   "id": "aaf6ec62-9d07-4fcf-af8d-a82ebf397dc5",
   "metadata": {},
   "outputs": [],
   "source": [
    "y_pred = model.predict(X_val)\n",
    "fpr, tpr, thresholds = roc_curve(y_val, y_pred, pos_label=1)\n",
    "print(auc(fpr, tpr))"
   ]
  },
  {
   "cell_type": "code",
   "execution_count": 51,
   "id": "c90501c0-909c-44b5-ade1-ee2aaf4e80af",
   "metadata": {},
   "outputs": [],
   "source": [
    "import pickle\n",
    "\n",
    "f = open('model.sav','wb')\n",
    "pickle.dump(model, f)\n",
    "f.close()"
   ]
  },
  {
   "cell_type": "code",
   "execution_count": 36,
   "id": "d08eef33-ed62-495f-b901-1f778840d375",
   "metadata": {},
   "outputs": [
    {
     "name": "stdout",
     "output_type": "stream",
     "text": [
      "0.9721296991916879\n"
     ]
    }
   ],
   "source": [
    "X_train, X_val, y_train, y_val = train_test_split(X, y, stratify=y, random_state=42)\n",
    "\n",
    "encoder = OneHotEncoder(drop='first', sparse_output=False, handle_unknown='ignore')\n",
    "OH_X_train = pd.DataFrame(encoder.fit_transform(X_train[category_columns]))\n",
    "OH_X_val = pd.DataFrame(encoder.transform(X_val[category_columns]))\n",
    "OH_X_train.columns = [str(col) + '_cat' for col in OH_X_train.columns]\n",
    "OH_X_val.columns = [str(col) + '_cat' for col in OH_X_val.columns]\n",
    "\n",
    "scaler = StandardScaler()\n",
    "scaled_X_train = pd.DataFrame(scaler.fit_transform(X_train[numeric_columns]))\n",
    "scaled_X_val = pd.DataFrame(scaler.transform(X_val[numeric_columns]))\n",
    "\n",
    "# poly = PolynomialFeatures(2)\n",
    "# poly_X_train = pd.DataFrame(poly.fit_transform(scaled_X_train))\n",
    "# poly_X_val = pd.DataFrame(poly.transform(scaled_X_val))\n",
    "\n",
    "# X_train = pd.concat([OH_X_train, poly_X_train], axis=1)\n",
    "# X_val = pd.concat([OH_X_val, poly_X_val], axis=1)\n",
    "\n",
    "X_train = pd.concat([OH_X_train, scaled_X_train], axis=1)\n",
    "X_val = pd.concat([OH_X_val, scaled_X_val], axis=1)\n",
    "\n",
    "X_train.columns = X_train.columns.astype(str)\n",
    "X_val.columns = X_val.columns.astype(str)\n",
    "\n",
    "model = LGBMClassifier(random_state=42, verbose=-1, device='gpu')\n",
    "\n",
    "model.fit(X_train, y_train)\n",
    "\n",
    "y_pred = model.predict(X_val)\n",
    "fpr, tpr, thresholds = roc_curve(y_val, y_pred, pos_label=1)\n",
    "print(auc(fpr, tpr))"
   ]
  },
  {
   "cell_type": "code",
   "execution_count": 37,
   "id": "6797cd5f-9510-47cf-a18a-341acbda11e2",
   "metadata": {},
   "outputs": [],
   "source": [
    "import tensorflow as tf"
   ]
  },
  {
   "cell_type": "code",
   "execution_count": 38,
   "id": "eaa9c0fd-c57e-4e89-b45e-3e2a2b248c55",
   "metadata": {},
   "outputs": [],
   "source": [
    "X_train = tf.convert_to_tensor(X_train)"
   ]
  },
  {
   "cell_type": "code",
   "execution_count": 40,
   "id": "0d737940-6749-4199-9244-55c29922f15b",
   "metadata": {},
   "outputs": [],
   "source": [
    "X_val = tf.convert_to_tensor(X_val)"
   ]
  },
  {
   "cell_type": "code",
   "execution_count": 42,
   "id": "a07aea98-b541-4ece-b942-fe5f5eae53ea",
   "metadata": {},
   "outputs": [],
   "source": [
    "model = tf.keras.Sequential([\n",
    "    tf.keras.layers.Dense(16, activation='relu'),\n",
    "    tf.keras.layers.Dense(16, activation='relu'),\n",
    "    tf.keras.layers.Dense(1)\n",
    "])\n",
    "\n",
    "model.compile(optimizer='adam',\n",
    "            loss=tf.keras.losses.BinaryCrossentropy(from_logits=True),\n",
    "            metrics=[tf.keras.metrics.AUC(from_logits=True)])"
   ]
  },
  {
   "cell_type": "code",
   "execution_count": 43,
   "id": "c324f73a-d01f-4f98-9dc4-cd9ea84399dd",
   "metadata": {},
   "outputs": [
    {
     "name": "stdout",
     "output_type": "stream",
     "text": [
      "Epoch 1/15\n",
      "197/197 [==============================] - 2s 4ms/step - loss: 0.2322 - auc: 0.9097 - val_loss: 0.0640 - val_auc: 0.9871\n",
      "Epoch 2/15\n",
      "197/197 [==============================] - 1s 4ms/step - loss: 0.0539 - auc: 0.9889 - val_loss: 0.0493 - val_auc: 0.9888\n",
      "Epoch 3/15\n",
      "197/197 [==============================] - 1s 4ms/step - loss: 0.0454 - auc: 0.9892 - val_loss: 0.0459 - val_auc: 0.9882\n",
      "Epoch 4/15\n",
      "197/197 [==============================] - 1s 4ms/step - loss: 0.0416 - auc: 0.9901 - val_loss: 0.0435 - val_auc: 0.9882\n",
      "Epoch 5/15\n",
      "197/197 [==============================] - 1s 4ms/step - loss: 0.0385 - auc: 0.9910 - val_loss: 0.0416 - val_auc: 0.9889\n",
      "Epoch 6/15\n",
      "197/197 [==============================] - 1s 4ms/step - loss: 0.0358 - auc: 0.9919 - val_loss: 0.0398 - val_auc: 0.9897\n",
      "Epoch 7/15\n",
      "197/197 [==============================] - 1s 4ms/step - loss: 0.0333 - auc: 0.9935 - val_loss: 0.0374 - val_auc: 0.9904\n",
      "Epoch 8/15\n",
      "197/197 [==============================] - 1s 4ms/step - loss: 0.0308 - auc: 0.9944 - val_loss: 0.0355 - val_auc: 0.9914\n",
      "Epoch 9/15\n",
      "197/197 [==============================] - 1s 4ms/step - loss: 0.0282 - auc: 0.9949 - val_loss: 0.0328 - val_auc: 0.9922\n",
      "Epoch 10/15\n",
      "197/197 [==============================] - 1s 4ms/step - loss: 0.0252 - auc: 0.9959 - val_loss: 0.0299 - val_auc: 0.9930\n",
      "Epoch 11/15\n",
      "197/197 [==============================] - 1s 4ms/step - loss: 0.0225 - auc: 0.9963 - val_loss: 0.0284 - val_auc: 0.9947\n",
      "Epoch 12/15\n",
      "197/197 [==============================] - 1s 4ms/step - loss: 0.0205 - auc: 0.9970 - val_loss: 0.0265 - val_auc: 0.9948\n",
      "Epoch 13/15\n",
      "197/197 [==============================] - 1s 4ms/step - loss: 0.0190 - auc: 0.9972 - val_loss: 0.0257 - val_auc: 0.9941\n",
      "Epoch 14/15\n",
      "197/197 [==============================] - 1s 4ms/step - loss: 0.0177 - auc: 0.9973 - val_loss: 0.0251 - val_auc: 0.9952\n",
      "Epoch 15/15\n",
      "197/197 [==============================] - 1s 4ms/step - loss: 0.0168 - auc: 0.9977 - val_loss: 0.0250 - val_auc: 0.9945\n"
     ]
    },
    {
     "data": {
      "text/plain": [
       "<keras.callbacks.History at 0x24bb511b790>"
      ]
     },
     "execution_count": 43,
     "metadata": {},
     "output_type": "execute_result"
    }
   ],
   "source": [
    "model.fit(X_train, y_train, epochs=15, batch_size=512, validation_data=[X_val, y_val])"
   ]
  },
  {
   "cell_type": "code",
   "execution_count": 44,
   "id": "f477f941-235e-42de-9b32-3060405ec7df",
   "metadata": {},
   "outputs": [],
   "source": [
    "model.save('my_model.h5')"
   ]
  },
  {
   "cell_type": "code",
   "execution_count": 58,
   "id": "914d0ba1-db4b-4d3e-ab6d-1b39660a0385",
   "metadata": {},
   "outputs": [
    {
     "data": {
      "text/plain": [
       "array([[-10.733581],\n",
       "       [ -9.498124],\n",
       "       [-13.819621],\n",
       "       ...,\n",
       "       [ -7.508799],\n",
       "       [ -8.045641],\n",
       "       [-10.197067]], dtype=float32)"
      ]
     },
     "execution_count": 58,
     "metadata": {},
     "output_type": "execute_result"
    }
   ],
   "source": [
    "model.predict(X_train, verbose=0)"
   ]
  },
  {
   "cell_type": "code",
   "execution_count": 56,
   "id": "d5c76bf7-e83f-4dc6-98b4-dccdecabee0e",
   "metadata": {},
   "outputs": [
    {
     "data": {
      "text/plain": [
       "(507,)"
      ]
     },
     "execution_count": 56,
     "metadata": {},
     "output_type": "execute_result"
    }
   ],
   "source": [
    "X_train[0].numpy().shape"
   ]
  },
  {
   "cell_type": "code",
   "execution_count": null,
   "id": "2e3aa7a4-15ea-41d4-bb17-0eef83d78b46",
   "metadata": {},
   "outputs": [],
   "source": []
  }
 ],
 "metadata": {
  "kernelspec": {
   "display_name": "Python 3 (ipykernel)",
   "language": "python",
   "name": "python3"
  },
  "language_info": {
   "codemirror_mode": {
    "name": "ipython",
    "version": 3
   },
   "file_extension": ".py",
   "mimetype": "text/x-python",
   "name": "python",
   "nbconvert_exporter": "python",
   "pygments_lexer": "ipython3",
   "version": "3.10.0"
  }
 },
 "nbformat": 4,
 "nbformat_minor": 5
}
