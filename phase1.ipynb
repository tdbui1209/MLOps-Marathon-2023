{
 "cells": [
  {
   "cell_type": "code",
   "execution_count": 15,
   "id": "157ba5ef-08ed-4e01-9934-0d7e6a058a42",
   "metadata": {},
   "outputs": [],
   "source": [
    "from pathlib import Path\n",
    "import pandas as pd\n",
    "import json\n",
    "import numpy as np\n",
    "\n",
    "import matplotlib.pyplot as plt\n",
    "import seaborn as sns\n",
    "\n",
    "from sklearn.compose import ColumnTransformer\n",
    "from sklearn.model_selection import KFold\n",
    "from sklearn.metrics import f1_score\n",
    "from sklearn.linear_model import LogisticRegression\n",
    "from sklearn.tree import DecisionTreeClassifier\n",
    "from sklearn.ensemble import RandomForestClassifier\n",
    "from xgboost import XGBClassifier\n",
    "from lightgbm import LGBMClassifier\n",
    "from catboost import CatBoostClassifier\n",
    "from sklearn.base import BaseEstimator, TransformerMixin\n",
    "from sklearn.pipeline import Pipeline\n",
    "\n",
    "random_seed = 42\n",
    "np.random.seed(random_seed)"
   ]
  },
  {
   "cell_type": "code",
   "execution_count": 2,
   "id": "a2e4395b-543e-463a-a331-7467b8db179e",
   "metadata": {},
   "outputs": [],
   "source": [
    "DATA_DIR = Path('./data/phase-1')\n",
    "DATA_DIR = DATA_DIR / 'prob-1'"
   ]
  },
  {
   "cell_type": "code",
   "execution_count": 3,
   "id": "f59ac588-3978-4f7b-bf5d-9b0c9fb4c973",
   "metadata": {},
   "outputs": [],
   "source": [
    "df_train = pd.read_parquet(DATA_DIR / 'raw_train.parquet', engine='fastparquet')\n",
    "df_description = pd.read_csv(DATA_DIR / 'description.csv')"
   ]
  },
  {
   "cell_type": "code",
   "execution_count": 4,
   "id": "677bfcd3",
   "metadata": {},
   "outputs": [],
   "source": [
    "with open(DATA_DIR / 'features_config.json') as file:\n",
    "    features_cfg = json.load(file)"
   ]
  },
  {
   "cell_type": "code",
   "execution_count": 41,
   "id": "c25b294e",
   "metadata": {},
   "outputs": [],
   "source": [
    "def trial(solution_pipeline, X, y, n_folds=5):\n",
    "    scores = {}\n",
    "\n",
    "    kf = KFold(n_splits=n_folds)\n",
    "    for train_index, val_index in kf.split(X, y):\n",
    "        X_train, X_val = X.iloc[train_index], X.iloc[val_index]\n",
    "        y_train, y_val = y.iloc[train_index], y.iloc[val_index]\n",
    "\n",
    "        solution_pipeline.fit(X_train, y_train)\n",
    "        score = solution_pipeline.score(X_val, y_val)\n",
    "        for s in score.keys():\n",
    "            if s not in scores.keys():\n",
    "                scores[s] = []\n",
    "            scores[s].append(score[s])\n",
    "    \n",
    "    scores_df = pd.DataFrame({\n",
    "        'model': scores.keys(),\n",
    "        'mean': [np.mean(scores[name_model]) for name_model in scores],\n",
    "        'std': [np.std(scores[name_model]) for name_model in scores]\n",
    "     }).sort_values(by=['mean', 'std'], ascending=False)\n",
    "    \n",
    "    return scores_df"
   ]
  },
  {
   "attachments": {},
   "cell_type": "markdown",
   "id": "7c4a3c41-52af-4ebf-a75b-ea3002cfa87c",
   "metadata": {},
   "source": [
    "# 1. PROBLEM 1"
   ]
  },
  {
   "cell_type": "code",
   "execution_count": 5,
   "id": "eace446e-1dc4-4cb7-82d2-95877f27c12f",
   "metadata": {},
   "outputs": [
    {
     "data": {
      "text/html": [
       "<div>\n",
       "<style scoped>\n",
       "    .dataframe tbody tr th:only-of-type {\n",
       "        vertical-align: middle;\n",
       "    }\n",
       "\n",
       "    .dataframe tbody tr th {\n",
       "        vertical-align: top;\n",
       "    }\n",
       "\n",
       "    .dataframe thead th {\n",
       "        text-align: right;\n",
       "    }\n",
       "</style>\n",
       "<table border=\"1\" class=\"dataframe\">\n",
       "  <thead>\n",
       "    <tr style=\"text-align: right;\">\n",
       "      <th></th>\n",
       "      <th>Key</th>\n",
       "      <th>Value</th>\n",
       "    </tr>\n",
       "  </thead>\n",
       "  <tbody>\n",
       "    <tr>\n",
       "      <th>0</th>\n",
       "      <td>Source</td>\n",
       "      <td>MLOps</td>\n",
       "    </tr>\n",
       "    <tr>\n",
       "      <th>1</th>\n",
       "      <td>Label</td>\n",
       "      <td>is Fraud (1) or Not (0)</td>\n",
       "    </tr>\n",
       "    <tr>\n",
       "      <th>2</th>\n",
       "      <td>Train size</td>\n",
       "      <td>134201</td>\n",
       "    </tr>\n",
       "    <tr>\n",
       "      <th>3</th>\n",
       "      <td>Test size</td>\n",
       "      <td>297945</td>\n",
       "    </tr>\n",
       "    <tr>\n",
       "      <th>4</th>\n",
       "      <td>Description</td>\n",
       "      <td>The ML problem at hand involves predicting fra...</td>\n",
       "    </tr>\n",
       "  </tbody>\n",
       "</table>\n",
       "</div>"
      ],
      "text/plain": [
       "           Key                                              Value\n",
       "0       Source                                              MLOps\n",
       "1        Label                            is Fraud (1) or Not (0)\n",
       "2   Train size                                             134201\n",
       "3    Test size                                             297945\n",
       "4  Description  The ML problem at hand involves predicting fra..."
      ]
     },
     "execution_count": 5,
     "metadata": {},
     "output_type": "execute_result"
    }
   ],
   "source": [
    "df_description"
   ]
  },
  {
   "cell_type": "code",
   "execution_count": 6,
   "id": "b858a136-2ec6-453c-9c01-d002fea16697",
   "metadata": {},
   "outputs": [
    {
     "data": {
      "text/plain": [
       "\"The ML problem at hand involves predicting fraudulent transactions in a financial dataset. The target variable is 'label', which is a binary variable indicating whether a transaction is fraudulent or not.\""
      ]
     },
     "execution_count": 6,
     "metadata": {},
     "output_type": "execute_result"
    }
   ],
   "source": [
    "df_description.loc[df_description['Key'] == 'Description', 'Value'].values[0]"
   ]
  },
  {
   "cell_type": "code",
   "execution_count": 7,
   "id": "5665e725-aa0b-4e55-8a95-65222f8dc7b5",
   "metadata": {
    "scrolled": true
   },
   "outputs": [
    {
     "data": {
      "text/html": [
       "<div>\n",
       "<style scoped>\n",
       "    .dataframe tbody tr th:only-of-type {\n",
       "        vertical-align: middle;\n",
       "    }\n",
       "\n",
       "    .dataframe tbody tr th {\n",
       "        vertical-align: top;\n",
       "    }\n",
       "\n",
       "    .dataframe thead th {\n",
       "        text-align: right;\n",
       "    }\n",
       "</style>\n",
       "<table border=\"1\" class=\"dataframe\">\n",
       "  <thead>\n",
       "    <tr style=\"text-align: right;\">\n",
       "      <th></th>\n",
       "      <th>feature1</th>\n",
       "      <th>feature2</th>\n",
       "      <th>feature3</th>\n",
       "      <th>feature4</th>\n",
       "      <th>feature5</th>\n",
       "      <th>feature6</th>\n",
       "      <th>feature7</th>\n",
       "      <th>feature8</th>\n",
       "      <th>feature9</th>\n",
       "      <th>feature10</th>\n",
       "      <th>feature11</th>\n",
       "      <th>feature12</th>\n",
       "      <th>feature13</th>\n",
       "      <th>label</th>\n",
       "      <th>feature14</th>\n",
       "      <th>feature15</th>\n",
       "      <th>feature16</th>\n",
       "    </tr>\n",
       "  </thead>\n",
       "  <tbody>\n",
       "    <tr>\n",
       "      <th>0</th>\n",
       "      <td>Site engineer</td>\n",
       "      <td>grocery_pos</td>\n",
       "      <td>8.60</td>\n",
       "      <td>48230</td>\n",
       "      <td>40.213439</td>\n",
       "      <td>-85.203756</td>\n",
       "      <td>47583</td>\n",
       "      <td>42.508293</td>\n",
       "      <td>-83.168004</td>\n",
       "      <td>65.596062</td>\n",
       "      <td>3</td>\n",
       "      <td>5</td>\n",
       "      <td>1</td>\n",
       "      <td>1</td>\n",
       "      <td>8.017865</td>\n",
       "      <td>1.028822</td>\n",
       "      <td>58.911132</td>\n",
       "    </tr>\n",
       "    <tr>\n",
       "      <th>1</th>\n",
       "      <td>Site engineer</td>\n",
       "      <td>gas_transport</td>\n",
       "      <td>316.84</td>\n",
       "      <td>48230</td>\n",
       "      <td>44.379391</td>\n",
       "      <td>-82.859721</td>\n",
       "      <td>47583</td>\n",
       "      <td>42.661838</td>\n",
       "      <td>-81.966510</td>\n",
       "      <td>64.728795</td>\n",
       "      <td>6</td>\n",
       "      <td>5</td>\n",
       "      <td>1</td>\n",
       "      <td>1</td>\n",
       "      <td>11.768568</td>\n",
       "      <td>1.106217</td>\n",
       "      <td>64.431017</td>\n",
       "    </tr>\n",
       "    <tr>\n",
       "      <th>2</th>\n",
       "      <td>Site engineer</td>\n",
       "      <td>grocery_pos</td>\n",
       "      <td>294.89</td>\n",
       "      <td>48230</td>\n",
       "      <td>42.950657</td>\n",
       "      <td>-84.935542</td>\n",
       "      <td>47583</td>\n",
       "      <td>42.580470</td>\n",
       "      <td>-82.408529</td>\n",
       "      <td>65.434606</td>\n",
       "      <td>3</td>\n",
       "      <td>5</td>\n",
       "      <td>1</td>\n",
       "      <td>1</td>\n",
       "      <td>7.996359</td>\n",
       "      <td>0.899881</td>\n",
       "      <td>57.545348</td>\n",
       "    </tr>\n",
       "    <tr>\n",
       "      <th>3</th>\n",
       "      <td>Site engineer</td>\n",
       "      <td>shopping_net</td>\n",
       "      <td>831.08</td>\n",
       "      <td>48230</td>\n",
       "      <td>39.372111</td>\n",
       "      <td>-84.893973</td>\n",
       "      <td>47583</td>\n",
       "      <td>41.948688</td>\n",
       "      <td>-83.919881</td>\n",
       "      <td>64.990422</td>\n",
       "      <td>23</td>\n",
       "      <td>6</td>\n",
       "      <td>1</td>\n",
       "      <td>1</td>\n",
       "      <td>8.767720</td>\n",
       "      <td>1.062966</td>\n",
       "      <td>62.681169</td>\n",
       "    </tr>\n",
       "    <tr>\n",
       "      <th>4</th>\n",
       "      <td>Site engineer</td>\n",
       "      <td>health_fitness</td>\n",
       "      <td>1063.84</td>\n",
       "      <td>48230</td>\n",
       "      <td>41.227499</td>\n",
       "      <td>-83.228392</td>\n",
       "      <td>47583</td>\n",
       "      <td>41.544743</td>\n",
       "      <td>-82.123365</td>\n",
       "      <td>65.316083</td>\n",
       "      <td>23</td>\n",
       "      <td>6</td>\n",
       "      <td>1</td>\n",
       "      <td>1</td>\n",
       "      <td>8.816222</td>\n",
       "      <td>0.722446</td>\n",
       "      <td>63.084486</td>\n",
       "    </tr>\n",
       "  </tbody>\n",
       "</table>\n",
       "</div>"
      ],
      "text/plain": [
       "        feature1        feature2  feature3  feature4   feature5   feature6  \\\n",
       "0  Site engineer     grocery_pos      8.60     48230  40.213439 -85.203756   \n",
       "1  Site engineer   gas_transport    316.84     48230  44.379391 -82.859721   \n",
       "2  Site engineer     grocery_pos    294.89     48230  42.950657 -84.935542   \n",
       "3  Site engineer    shopping_net    831.08     48230  39.372111 -84.893973   \n",
       "4  Site engineer  health_fitness   1063.84     48230  41.227499 -83.228392   \n",
       "\n",
       "   feature7   feature8   feature9  feature10  feature11  feature12  feature13  \\\n",
       "0     47583  42.508293 -83.168004  65.596062          3          5          1   \n",
       "1     47583  42.661838 -81.966510  64.728795          6          5          1   \n",
       "2     47583  42.580470 -82.408529  65.434606          3          5          1   \n",
       "3     47583  41.948688 -83.919881  64.990422         23          6          1   \n",
       "4     47583  41.544743 -82.123365  65.316083         23          6          1   \n",
       "\n",
       "   label  feature14  feature15  feature16  \n",
       "0      1   8.017865   1.028822  58.911132  \n",
       "1      1  11.768568   1.106217  64.431017  \n",
       "2      1   7.996359   0.899881  57.545348  \n",
       "3      1   8.767720   1.062966  62.681169  \n",
       "4      1   8.816222   0.722446  63.084486  "
      ]
     },
     "execution_count": 7,
     "metadata": {},
     "output_type": "execute_result"
    }
   ],
   "source": [
    "df_train.head()"
   ]
  },
  {
   "cell_type": "code",
   "execution_count": 8,
   "id": "8ddc4253-9d56-47ec-a1a1-f302c7fc6f68",
   "metadata": {},
   "outputs": [
    {
     "name": "stdout",
     "output_type": "stream",
     "text": [
      "<class 'pandas.core.frame.DataFrame'>\n",
      "RangeIndex: 134201 entries, 0 to 134200\n",
      "Data columns (total 17 columns):\n",
      " #   Column     Non-Null Count   Dtype  \n",
      "---  ------     --------------   -----  \n",
      " 0   feature1   134201 non-null  object \n",
      " 1   feature2   134201 non-null  object \n",
      " 2   feature3   134201 non-null  float64\n",
      " 3   feature4   134201 non-null  int64  \n",
      " 4   feature5   134201 non-null  float64\n",
      " 5   feature6   134201 non-null  float64\n",
      " 6   feature7   134201 non-null  int64  \n",
      " 7   feature8   134201 non-null  float64\n",
      " 8   feature9   134201 non-null  float64\n",
      " 9   feature10  134201 non-null  float64\n",
      " 10  feature11  134201 non-null  int64  \n",
      " 11  feature12  134201 non-null  int64  \n",
      " 12  feature13  134201 non-null  int64  \n",
      " 13  label      134201 non-null  int64  \n",
      " 14  feature14  134201 non-null  float64\n",
      " 15  feature15  134201 non-null  float64\n",
      " 16  feature16  134201 non-null  float64\n",
      "dtypes: float64(9), int64(6), object(2)\n",
      "memory usage: 17.4+ MB\n"
     ]
    }
   ],
   "source": [
    "df_train.info()"
   ]
  },
  {
   "cell_type": "code",
   "execution_count": 9,
   "id": "834aaabe-0605-4ffc-9075-c12200a12289",
   "metadata": {},
   "outputs": [
    {
     "data": {
      "text/plain": [
       "feature1     0\n",
       "feature2     0\n",
       "feature3     0\n",
       "feature4     0\n",
       "feature5     0\n",
       "feature6     0\n",
       "feature7     0\n",
       "feature8     0\n",
       "feature9     0\n",
       "feature10    0\n",
       "feature11    0\n",
       "feature12    0\n",
       "feature13    0\n",
       "label        0\n",
       "feature14    0\n",
       "feature15    0\n",
       "feature16    0\n",
       "dtype: int64"
      ]
     },
     "execution_count": 9,
     "metadata": {},
     "output_type": "execute_result"
    }
   ],
   "source": [
    "# Số lượng giá trị NaN\n",
    "\n",
    "df_train.isna().sum()"
   ]
  },
  {
   "attachments": {},
   "cell_type": "markdown",
   "id": "a7accde5-0f35-401e-9c47-4bcd7978b68d",
   "metadata": {},
   "source": [
    "**Kết luận**: Không có giá trị NaN"
   ]
  },
  {
   "cell_type": "code",
   "execution_count": 10,
   "id": "7440adc3-2d04-44bc-bcbb-c9f4cf31d16c",
   "metadata": {},
   "outputs": [
    {
     "data": {
      "image/png": "[encoded data removed]",
      "text/plain": [
       "<Figure size 640x480 with 1 Axes>"
      ]
     },
     "metadata": {},
     "output_type": "display_data"
    }
   ],
   "source": [
    "sns.countplot(data=df_train, x='label')\n",
    "plt.show()"
   ]
  },
  {
   "attachments": {},
   "cell_type": "markdown",
   "id": "878981bd-0dbc-429f-aca6-df4f301966c7",
   "metadata": {},
   "source": [
    "**Kết luận**: Target bị mất cân bằng"
   ]
  },
  {
   "attachments": {},
   "cell_type": "markdown",
   "id": "aa10e902-849d-473e-b32b-8b69fe108f89",
   "metadata": {},
   "source": [
    "# 1.1. Prepare data"
   ]
  },
  {
   "cell_type": "code",
   "execution_count": 11,
   "id": "3cb523ca",
   "metadata": {},
   "outputs": [],
   "source": [
    "target_column = features_cfg['target_column']\n",
    "category_columns = features_cfg['category_columns']\n",
    "numeric_columns = features_cfg['numeric_columns']"
   ]
  },
  {
   "cell_type": "code",
   "execution_count": 12,
   "id": "7f4762c0",
   "metadata": {},
   "outputs": [],
   "source": [
    "X = df_train.copy()\n",
    "y = X.pop(target_column)"
   ]
  },
  {
   "attachments": {},
   "cell_type": "markdown",
   "id": "735c53a7",
   "metadata": {},
   "source": [
    "## 1.2. Define models"
   ]
  },
  {
   "cell_type": "code",
   "execution_count": 37,
   "id": "8eb8c988",
   "metadata": {},
   "outputs": [],
   "source": [
    "class BaselineModels:\n",
    "    \n",
    "    def __init__(self, random_state=42):\n",
    "        self.random_state=random_state\n",
    "        self.baseline_models = {\n",
    "            'linear_model': LogisticRegression(),\n",
    "            'decision_tree': DecisionTreeClassifier(random_state=self.random_state),\n",
    "            'random_forest': RandomForestClassifier(random_state=self.random_state),\n",
    "            'xgb': XGBClassifier(random_state=self.random_state, tree_method='gpu_hist'),\n",
    "            'lightgbm': LGBMClassifier(random_state=self.random_state, verbose=-1, device='gpu'),\n",
    "            'catboost': CatBoostClassifier(random_state=self.random_state, verbose=False, task_type='GPU')\n",
    "        }\n",
    "        \n",
    "    def fit(self, X_train, y_train):\n",
    "        for model in self.baseline_models:\n",
    "            self.baseline_models[model].fit(X_train, y_train)\n",
    "        return self\n",
    "    \n",
    "    def predict(self, X_test):\n",
    "        preds = {}\n",
    "        for model in self.baseline_models:\n",
    "            y_pred = self.baseline_models[model].predict(X_test)\n",
    "            preds[model] = y_pred\n",
    "        return preds\n",
    "    \n",
    "    def score(self, X_test, y_test):\n",
    "        scores = {}\n",
    "        for model in self.baseline_models:\n",
    "            y_pred = self.baseline_models[model].predict(X_test)\n",
    "            scores[model] = f1_score(y_test, y_pred)\n",
    "        return scores"
   ]
  },
  {
   "attachments": {},
   "cell_type": "markdown",
   "id": "76dde20f",
   "metadata": {},
   "source": [
    "## 1.3. Solutions"
   ]
  },
  {
   "attachments": {},
   "cell_type": "markdown",
   "id": "2eed4e01",
   "metadata": {},
   "source": [
    "### 1.3.1. Drop categorical features"
   ]
  },
  {
   "cell_type": "code",
   "execution_count": 38,
   "id": "331f0934",
   "metadata": {},
   "outputs": [],
   "source": [
    "class DropFeatureTransformer():\n",
    "    \n",
    "    def __init__(self, cols=[]):\n",
    "        self.cols = cols\n",
    "\n",
    "    def fit(self, X, y=None):\n",
    "        return self\n",
    "    \n",
    "    def transform(self, X):\n",
    "        return X.drop(self.cols, axis=1).copy()"
   ]
  },
  {
   "cell_type": "code",
   "execution_count": 39,
   "id": "9e08be16",
   "metadata": {},
   "outputs": [],
   "source": [
    "solution_1_pipeline = Pipeline([\n",
    "    ('drop_categorical_feature', DropFeatureTransformer(cols=category_columns)),\n",
    "    ('baseline_models', BaselineModels(random_state=random_seed))\n",
    "])"
   ]
  },
  {
   "cell_type": "code",
   "execution_count": 40,
   "id": "e8693c5e",
   "metadata": {},
   "outputs": [
    {
     "name": "stderr",
     "output_type": "stream",
     "text": [
      "d:\\MLOps-Marathon-2023\\venv\\lib\\site-packages\\sklearn\\linear_model\\_logistic.py:458: ConvergenceWarning: lbfgs failed to converge (status=1):\n",
      "STOP: TOTAL NO. of ITERATIONS REACHED LIMIT.\n",
      "\n",
      "Increase the number of iterations (max_iter) or scale the data as shown in:\n",
      "    https://scikit-learn.org/stable/modules/preprocessing.html\n",
      "Please also refer to the documentation for alternative solver options:\n",
      "    https://scikit-learn.org/stable/modules/linear_model.html#logistic-regression\n",
      "  n_iter_i = _check_optimize_result(\n"
     ]
    },
    {
     "data": {
      "text/html": [
       "<div>\n",
       "<style scoped>\n",
       "    .dataframe tbody tr th:only-of-type {\n",
       "        vertical-align: middle;\n",
       "    }\n",
       "\n",
       "    .dataframe tbody tr th {\n",
       "        vertical-align: top;\n",
       "    }\n",
       "\n",
       "    .dataframe thead th {\n",
       "        text-align: right;\n",
       "    }\n",
       "</style>\n",
       "<table border=\"1\" class=\"dataframe\">\n",
       "  <thead>\n",
       "    <tr style=\"text-align: right;\">\n",
       "      <th></th>\n",
       "      <th>model</th>\n",
       "      <th>mean</th>\n",
       "      <th>std</th>\n",
       "    </tr>\n",
       "  </thead>\n",
       "  <tbody>\n",
       "    <tr>\n",
       "      <th>0</th>\n",
       "      <td>linear_model</td>\n",
       "      <td>0.588764</td>\n",
       "      <td>0.074366</td>\n",
       "    </tr>\n",
       "    <tr>\n",
       "      <th>1</th>\n",
       "      <td>decision_tree</td>\n",
       "      <td>0.875349</td>\n",
       "      <td>0.032968</td>\n",
       "    </tr>\n",
       "    <tr>\n",
       "      <th>2</th>\n",
       "      <td>random_forest</td>\n",
       "      <td>0.920087</td>\n",
       "      <td>0.029958</td>\n",
       "    </tr>\n",
       "    <tr>\n",
       "      <th>4</th>\n",
       "      <td>lightgbm</td>\n",
       "      <td>0.936643</td>\n",
       "      <td>0.019072</td>\n",
       "    </tr>\n",
       "    <tr>\n",
       "      <th>3</th>\n",
       "      <td>xgb</td>\n",
       "      <td>0.936985</td>\n",
       "      <td>0.019338</td>\n",
       "    </tr>\n",
       "    <tr>\n",
       "      <th>5</th>\n",
       "      <td>catboost</td>\n",
       "      <td>0.940917</td>\n",
       "      <td>0.017850</td>\n",
       "    </tr>\n",
       "  </tbody>\n",
       "</table>\n",
       "</div>"
      ],
      "text/plain": [
       "           model      mean       std\n",
       "0   linear_model  0.588764  0.074366\n",
       "1  decision_tree  0.875349  0.032968\n",
       "2  random_forest  0.920087  0.029958\n",
       "4       lightgbm  0.936643  0.019072\n",
       "3            xgb  0.936985  0.019338\n",
       "5       catboost  0.940917  0.017850"
      ]
     },
     "execution_count": 40,
     "metadata": {},
     "output_type": "execute_result"
    }
   ],
   "source": [
    "trial(solution_1_pipeline, X, y)"
   ]
  }
 ],
 "metadata": {
  "kernelspec": {
   "display_name": "Python 3 (ipykernel)",
   "language": "python",
   "name": "python3"
  },
  "language_info": {
   "codemirror_mode": {
    "name": "ipython",
    "version": 3
   },
   "file_extension": ".py",
   "mimetype": "text/x-python",
   "name": "python",
   "nbconvert_exporter": "python",
   "pygments_lexer": "ipython3",
   "version": "3.10.9"
  }
 },
 "nbformat": 4,
 "nbformat_minor": 5
}
