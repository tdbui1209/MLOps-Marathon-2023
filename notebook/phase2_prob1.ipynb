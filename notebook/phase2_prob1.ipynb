{
 "cells": [
  {
   "cell_type": "code",
   "execution_count": 110,
   "metadata": {},
   "outputs": [],
   "source": [
    "import pandas as pd\n",
    "import numpy as np\n",
    "\n",
    "from sklearn.metrics import roc_auc_score\n",
    "from sklearn.model_selection import train_test_split, KFold\n",
    "from sklearn.linear_model import LogisticRegression\n",
    "from sklearn.preprocessing import OrdinalEncoder, OneHotEncoder, StandardScaler, PolynomialFeatures\n",
    "from sklearn.ensemble import RandomForestClassifier\n",
    "from xgboost import XGBClassifier\n",
    "from sklearn.svm import SVC\n",
    "import lightgbm as lgbm\n",
    "from lightgbm import LGBMClassifier\n",
    "from catboost import CatBoostClassifier\n",
    "\n",
    "import pickle\n",
    "from tqdm import tqdm\n",
    "import time"
   ]
  },
  {
   "attachments": {},
   "cell_type": "markdown",
   "metadata": {},
   "source": [
    "# CONFIGURE"
   ]
  },
  {
   "cell_type": "code",
   "execution_count": 88,
   "metadata": {},
   "outputs": [],
   "source": [
    "pd.set_option('display.max_columns', 50)\n",
    "pd.set_option('display.max_rows', 200)"
   ]
  },
  {
   "cell_type": "code",
   "execution_count": 3,
   "metadata": {},
   "outputs": [],
   "source": [
    "DATA_PATH = '../data/raw_data/phase-2/prob-1'"
   ]
  },
  {
   "cell_type": "code",
   "execution_count": 4,
   "metadata": {},
   "outputs": [],
   "source": [
    "DATA_FILE = 'raw_train.parquet'"
   ]
  },
  {
   "attachments": {},
   "cell_type": "markdown",
   "metadata": {},
   "source": [
    "# PREPARE DATA"
   ]
  },
  {
   "cell_type": "code",
   "execution_count": 5,
   "metadata": {},
   "outputs": [
    {
     "data": {
      "text/html": [
       "<div>\n",
       "<style scoped>\n",
       "    .dataframe tbody tr th:only-of-type {\n",
       "        vertical-align: middle;\n",
       "    }\n",
       "\n",
       "    .dataframe tbody tr th {\n",
       "        vertical-align: top;\n",
       "    }\n",
       "\n",
       "    .dataframe thead th {\n",
       "        text-align: right;\n",
       "    }\n",
       "</style>\n",
       "<table border=\"1\" class=\"dataframe\">\n",
       "  <thead>\n",
       "    <tr style=\"text-align: right;\">\n",
       "      <th></th>\n",
       "      <th>feature1</th>\n",
       "      <th>feature2</th>\n",
       "      <th>feature3</th>\n",
       "      <th>feature4</th>\n",
       "      <th>feature5</th>\n",
       "      <th>feature6</th>\n",
       "      <th>feature7</th>\n",
       "      <th>feature8</th>\n",
       "      <th>feature9</th>\n",
       "      <th>feature10</th>\n",
       "      <th>feature11</th>\n",
       "      <th>feature12</th>\n",
       "      <th>feature13</th>\n",
       "      <th>feature14</th>\n",
       "      <th>feature15</th>\n",
       "      <th>feature16</th>\n",
       "      <th>feature17</th>\n",
       "      <th>feature18</th>\n",
       "      <th>feature19</th>\n",
       "      <th>feature20</th>\n",
       "      <th>feature21</th>\n",
       "      <th>feature22</th>\n",
       "      <th>feature23</th>\n",
       "      <th>feature24</th>\n",
       "      <th>feature25</th>\n",
       "      <th>feature26</th>\n",
       "      <th>feature27</th>\n",
       "      <th>feature28</th>\n",
       "      <th>feature29</th>\n",
       "      <th>feature30</th>\n",
       "      <th>feature31</th>\n",
       "      <th>feature32</th>\n",
       "      <th>feature33</th>\n",
       "      <th>feature34</th>\n",
       "      <th>feature35</th>\n",
       "      <th>feature36</th>\n",
       "      <th>feature37</th>\n",
       "      <th>feature38</th>\n",
       "      <th>feature39</th>\n",
       "      <th>feature40</th>\n",
       "      <th>feature41</th>\n",
       "      <th>label</th>\n",
       "    </tr>\n",
       "  </thead>\n",
       "  <tbody>\n",
       "    <tr>\n",
       "      <th>0</th>\n",
       "      <td>0.041847</td>\n",
       "      <td>tcp</td>\n",
       "      <td>-</td>\n",
       "      <td>FIN</td>\n",
       "      <td>38.0</td>\n",
       "      <td>40.0</td>\n",
       "      <td>2438.0</td>\n",
       "      <td>19266.0</td>\n",
       "      <td>31.0</td>\n",
       "      <td>29.0</td>\n",
       "      <td>4.538438e+05</td>\n",
       "      <td>3.591177e+06</td>\n",
       "      <td>7.0</td>\n",
       "      <td>13.0</td>\n",
       "      <td>1.153722</td>\n",
       "      <td>1.058410</td>\n",
       "      <td>68.764188</td>\n",
       "      <td>66.421092</td>\n",
       "      <td>255.0</td>\n",
       "      <td>3.898436e+09</td>\n",
       "      <td>1.827204e+09</td>\n",
       "      <td>255.0</td>\n",
       "      <td>0.000707</td>\n",
       "      <td>0.000566</td>\n",
       "      <td>0.000141</td>\n",
       "      <td>64.0</td>\n",
       "      <td>482.0</td>\n",
       "      <td>0.0</td>\n",
       "      <td>0.0</td>\n",
       "      <td>6.0</td>\n",
       "      <td>0.0</td>\n",
       "      <td>5.0</td>\n",
       "      <td>1.0</td>\n",
       "      <td>1.0</td>\n",
       "      <td>1.0</td>\n",
       "      <td>0.0</td>\n",
       "      <td>0.0</td>\n",
       "      <td>0.0</td>\n",
       "      <td>2.0</td>\n",
       "      <td>11.0</td>\n",
       "      <td>0.0</td>\n",
       "      <td>0</td>\n",
       "    </tr>\n",
       "    <tr>\n",
       "      <th>1</th>\n",
       "      <td>1.089133</td>\n",
       "      <td>tcp</td>\n",
       "      <td>http</td>\n",
       "      <td>FIN</td>\n",
       "      <td>14.0</td>\n",
       "      <td>18.0</td>\n",
       "      <td>1684.0</td>\n",
       "      <td>10168.0</td>\n",
       "      <td>31.0</td>\n",
       "      <td>29.0</td>\n",
       "      <td>1.148804e+04</td>\n",
       "      <td>7.054418e+04</td>\n",
       "      <td>3.0</td>\n",
       "      <td>5.0</td>\n",
       "      <td>83.751772</td>\n",
       "      <td>64.035706</td>\n",
       "      <td>9346.434820</td>\n",
       "      <td>8182.385202</td>\n",
       "      <td>255.0</td>\n",
       "      <td>3.051186e+09</td>\n",
       "      <td>9.067852e+08</td>\n",
       "      <td>255.0</td>\n",
       "      <td>0.000665</td>\n",
       "      <td>0.000523</td>\n",
       "      <td>0.000142</td>\n",
       "      <td>120.0</td>\n",
       "      <td>565.0</td>\n",
       "      <td>1.0</td>\n",
       "      <td>3924.0</td>\n",
       "      <td>1.0</td>\n",
       "      <td>0.0</td>\n",
       "      <td>2.0</td>\n",
       "      <td>1.0</td>\n",
       "      <td>1.0</td>\n",
       "      <td>2.0</td>\n",
       "      <td>0.0</td>\n",
       "      <td>0.0</td>\n",
       "      <td>1.0</td>\n",
       "      <td>2.0</td>\n",
       "      <td>1.0</td>\n",
       "      <td>0.0</td>\n",
       "      <td>0</td>\n",
       "    </tr>\n",
       "    <tr>\n",
       "      <th>2</th>\n",
       "      <td>0.000002</td>\n",
       "      <td>udp</td>\n",
       "      <td>dns</td>\n",
       "      <td>INT</td>\n",
       "      <td>2.0</td>\n",
       "      <td>0.0</td>\n",
       "      <td>114.0</td>\n",
       "      <td>0.0</td>\n",
       "      <td>254.0</td>\n",
       "      <td>0.0</td>\n",
       "      <td>2.280000e+08</td>\n",
       "      <td>0.000000e+00</td>\n",
       "      <td>0.0</td>\n",
       "      <td>0.0</td>\n",
       "      <td>0.002000</td>\n",
       "      <td>0.000000</td>\n",
       "      <td>0.000000</td>\n",
       "      <td>0.000000</td>\n",
       "      <td>0.0</td>\n",
       "      <td>0.000000e+00</td>\n",
       "      <td>0.000000e+00</td>\n",
       "      <td>0.0</td>\n",
       "      <td>0.000000</td>\n",
       "      <td>0.000000</td>\n",
       "      <td>0.000000</td>\n",
       "      <td>57.0</td>\n",
       "      <td>0.0</td>\n",
       "      <td>0.0</td>\n",
       "      <td>0.0</td>\n",
       "      <td>25.0</td>\n",
       "      <td>2.0</td>\n",
       "      <td>18.0</td>\n",
       "      <td>17.0</td>\n",
       "      <td>17.0</td>\n",
       "      <td>25.0</td>\n",
       "      <td>0.0</td>\n",
       "      <td>0.0</td>\n",
       "      <td>0.0</td>\n",
       "      <td>17.0</td>\n",
       "      <td>25.0</td>\n",
       "      <td>0.0</td>\n",
       "      <td>1</td>\n",
       "    </tr>\n",
       "    <tr>\n",
       "      <th>3</th>\n",
       "      <td>1.467246</td>\n",
       "      <td>tcp</td>\n",
       "      <td>ftp</td>\n",
       "      <td>FIN</td>\n",
       "      <td>12.0</td>\n",
       "      <td>12.0</td>\n",
       "      <td>2618.0</td>\n",
       "      <td>682.0</td>\n",
       "      <td>254.0</td>\n",
       "      <td>252.0</td>\n",
       "      <td>1.308574e+04</td>\n",
       "      <td>3.413197e+03</td>\n",
       "      <td>3.0</td>\n",
       "      <td>4.0</td>\n",
       "      <td>133.386003</td>\n",
       "      <td>124.152453</td>\n",
       "      <td>7744.976658</td>\n",
       "      <td>198.329344</td>\n",
       "      <td>255.0</td>\n",
       "      <td>2.477915e+09</td>\n",
       "      <td>1.653923e+09</td>\n",
       "      <td>255.0</td>\n",
       "      <td>0.173821</td>\n",
       "      <td>0.101319</td>\n",
       "      <td>0.072502</td>\n",
       "      <td>218.0</td>\n",
       "      <td>57.0</td>\n",
       "      <td>0.0</td>\n",
       "      <td>0.0</td>\n",
       "      <td>3.0</td>\n",
       "      <td>1.0</td>\n",
       "      <td>1.0</td>\n",
       "      <td>1.0</td>\n",
       "      <td>1.0</td>\n",
       "      <td>3.0</td>\n",
       "      <td>0.0</td>\n",
       "      <td>0.0</td>\n",
       "      <td>0.0</td>\n",
       "      <td>2.0</td>\n",
       "      <td>3.0</td>\n",
       "      <td>0.0</td>\n",
       "      <td>1</td>\n",
       "    </tr>\n",
       "    <tr>\n",
       "      <th>4</th>\n",
       "      <td>0.000927</td>\n",
       "      <td>udp</td>\n",
       "      <td>dns</td>\n",
       "      <td>CON</td>\n",
       "      <td>2.0</td>\n",
       "      <td>2.0</td>\n",
       "      <td>130.0</td>\n",
       "      <td>162.0</td>\n",
       "      <td>31.0</td>\n",
       "      <td>29.0</td>\n",
       "      <td>5.609493e+05</td>\n",
       "      <td>6.990291e+05</td>\n",
       "      <td>0.0</td>\n",
       "      <td>0.0</td>\n",
       "      <td>0.002000</td>\n",
       "      <td>0.003000</td>\n",
       "      <td>0.000000</td>\n",
       "      <td>0.000000</td>\n",
       "      <td>0.0</td>\n",
       "      <td>0.000000e+00</td>\n",
       "      <td>0.000000e+00</td>\n",
       "      <td>0.0</td>\n",
       "      <td>0.000000</td>\n",
       "      <td>0.000000</td>\n",
       "      <td>0.000000</td>\n",
       "      <td>65.0</td>\n",
       "      <td>81.0</td>\n",
       "      <td>0.0</td>\n",
       "      <td>0.0</td>\n",
       "      <td>1.0</td>\n",
       "      <td>0.0</td>\n",
       "      <td>3.0</td>\n",
       "      <td>1.0</td>\n",
       "      <td>1.0</td>\n",
       "      <td>2.0</td>\n",
       "      <td>0.0</td>\n",
       "      <td>0.0</td>\n",
       "      <td>0.0</td>\n",
       "      <td>1.0</td>\n",
       "      <td>4.0</td>\n",
       "      <td>0.0</td>\n",
       "      <td>0</td>\n",
       "    </tr>\n",
       "  </tbody>\n",
       "</table>\n",
       "</div>"
      ],
      "text/plain": [
       "   feature1 feature2 feature3 feature4  feature5  feature6  feature7  \\\n",
       "0  0.041847      tcp        -      FIN      38.0      40.0    2438.0   \n",
       "1  1.089133      tcp     http      FIN      14.0      18.0    1684.0   \n",
       "2  0.000002      udp      dns      INT       2.0       0.0     114.0   \n",
       "3  1.467246      tcp      ftp      FIN      12.0      12.0    2618.0   \n",
       "4  0.000927      udp      dns      CON       2.0       2.0     130.0   \n",
       "\n",
       "   feature8  feature9  feature10     feature11     feature12  feature13  \\\n",
       "0   19266.0      31.0       29.0  4.538438e+05  3.591177e+06        7.0   \n",
       "1   10168.0      31.0       29.0  1.148804e+04  7.054418e+04        3.0   \n",
       "2       0.0     254.0        0.0  2.280000e+08  0.000000e+00        0.0   \n",
       "3     682.0     254.0      252.0  1.308574e+04  3.413197e+03        3.0   \n",
       "4     162.0      31.0       29.0  5.609493e+05  6.990291e+05        0.0   \n",
       "\n",
       "   feature14   feature15   feature16    feature17    feature18  feature19  \\\n",
       "0       13.0    1.153722    1.058410    68.764188    66.421092      255.0   \n",
       "1        5.0   83.751772   64.035706  9346.434820  8182.385202      255.0   \n",
       "2        0.0    0.002000    0.000000     0.000000     0.000000        0.0   \n",
       "3        4.0  133.386003  124.152453  7744.976658   198.329344      255.0   \n",
       "4        0.0    0.002000    0.003000     0.000000     0.000000        0.0   \n",
       "\n",
       "      feature20     feature21  feature22  feature23  feature24  feature25  \\\n",
       "0  3.898436e+09  1.827204e+09      255.0   0.000707   0.000566   0.000141   \n",
       "1  3.051186e+09  9.067852e+08      255.0   0.000665   0.000523   0.000142   \n",
       "2  0.000000e+00  0.000000e+00        0.0   0.000000   0.000000   0.000000   \n",
       "3  2.477915e+09  1.653923e+09      255.0   0.173821   0.101319   0.072502   \n",
       "4  0.000000e+00  0.000000e+00        0.0   0.000000   0.000000   0.000000   \n",
       "\n",
       "   feature26  feature27  feature28  feature29  feature30  feature31  \\\n",
       "0       64.0      482.0        0.0        0.0        6.0        0.0   \n",
       "1      120.0      565.0        1.0     3924.0        1.0        0.0   \n",
       "2       57.0        0.0        0.0        0.0       25.0        2.0   \n",
       "3      218.0       57.0        0.0        0.0        3.0        1.0   \n",
       "4       65.0       81.0        0.0        0.0        1.0        0.0   \n",
       "\n",
       "   feature32  feature33  feature34  feature35  feature36  feature37  \\\n",
       "0        5.0        1.0        1.0        1.0        0.0        0.0   \n",
       "1        2.0        1.0        1.0        2.0        0.0        0.0   \n",
       "2       18.0       17.0       17.0       25.0        0.0        0.0   \n",
       "3        1.0        1.0        1.0        3.0        0.0        0.0   \n",
       "4        3.0        1.0        1.0        2.0        0.0        0.0   \n",
       "\n",
       "   feature38  feature39  feature40  feature41  label  \n",
       "0        0.0        2.0       11.0        0.0      0  \n",
       "1        1.0        2.0        1.0        0.0      0  \n",
       "2        0.0       17.0       25.0        0.0      1  \n",
       "3        0.0        2.0        3.0        0.0      1  \n",
       "4        0.0        1.0        4.0        0.0      0  "
      ]
     },
     "execution_count": 5,
     "metadata": {},
     "output_type": "execute_result"
    }
   ],
   "source": [
    "df_train = pd.read_parquet(f'{DATA_PATH}/{DATA_FILE}', engine='fastparquet')\n",
    "df_train.head()"
   ]
  },
  {
   "cell_type": "code",
   "execution_count": 6,
   "metadata": {},
   "outputs": [
    {
     "name": "stdout",
     "output_type": "stream",
     "text": [
      "Missing values in train data: 0\n"
     ]
    }
   ],
   "source": [
    "print('Missing values in train data:', df_train.isnull().sum().sum())"
   ]
  },
  {
   "cell_type": "code",
   "execution_count": 7,
   "metadata": {},
   "outputs": [
    {
     "name": "stdout",
     "output_type": "stream",
     "text": [
      "<class 'pandas.core.frame.DataFrame'>\n",
      "RangeIndex: 61841 entries, 0 to 61840\n",
      "Data columns (total 42 columns):\n",
      " #   Column     Non-Null Count  Dtype  \n",
      "---  ------     --------------  -----  \n",
      " 0   feature1   61841 non-null  float64\n",
      " 1   feature2   61841 non-null  object \n",
      " 2   feature3   61841 non-null  object \n",
      " 3   feature4   61841 non-null  object \n",
      " 4   feature5   61841 non-null  float64\n",
      " 5   feature6   61841 non-null  float64\n",
      " 6   feature7   61841 non-null  float64\n",
      " 7   feature8   61841 non-null  float64\n",
      " 8   feature9   61841 non-null  float64\n",
      " 9   feature10  61841 non-null  float64\n",
      " 10  feature11  61841 non-null  float64\n",
      " 11  feature12  61841 non-null  float64\n",
      " 12  feature13  61841 non-null  float64\n",
      " 13  feature14  61841 non-null  float64\n",
      " 14  feature15  61841 non-null  float64\n",
      " 15  feature16  61841 non-null  float64\n",
      " 16  feature17  61841 non-null  float64\n",
      " 17  feature18  61841 non-null  float64\n",
      " 18  feature19  61841 non-null  float64\n",
      " 19  feature20  61841 non-null  float64\n",
      " 20  feature21  61841 non-null  float64\n",
      " 21  feature22  61841 non-null  float64\n",
      " 22  feature23  61841 non-null  float64\n",
      " 23  feature24  61841 non-null  float64\n",
      " 24  feature25  61841 non-null  float64\n",
      " 25  feature26  61841 non-null  float64\n",
      " 26  feature27  61841 non-null  float64\n",
      " 27  feature28  61841 non-null  float64\n",
      " 28  feature29  61841 non-null  float64\n",
      " 29  feature30  61841 non-null  float64\n",
      " 30  feature31  61841 non-null  float64\n",
      " 31  feature32  61841 non-null  float64\n",
      " 32  feature33  61841 non-null  float64\n",
      " 33  feature34  61841 non-null  float64\n",
      " 34  feature35  61841 non-null  float64\n",
      " 35  feature36  61841 non-null  float64\n",
      " 36  feature37  61841 non-null  float64\n",
      " 37  feature38  61841 non-null  float64\n",
      " 38  feature39  61841 non-null  float64\n",
      " 39  feature40  61841 non-null  float64\n",
      " 40  feature41  61841 non-null  float64\n",
      " 41  label      61841 non-null  int64  \n",
      "dtypes: float64(38), int64(1), object(3)\n",
      "memory usage: 19.8+ MB\n"
     ]
    }
   ],
   "source": [
    "df_train.info()"
   ]
  },
  {
   "cell_type": "markdown",
   "metadata": {},
   "source": [
    "# Explore"
   ]
  },
  {
   "cell_type": "code",
   "execution_count": 91,
   "metadata": {},
   "outputs": [
    {
     "name": "stdout",
     "output_type": "stream",
     "text": [
      "label  feature4\n",
      "0      FIN         14761\n",
      "       CON          4520\n",
      "       INT          2455\n",
      "       REQ           634\n",
      "       RST            16\n",
      "       ECO             3\n",
      "       ACC             1\n",
      "1      INT         25427\n",
      "       FIN         13404\n",
      "       CON           328\n",
      "       REQ           288\n",
      "       RST             4\n",
      "Name: feature4, dtype: int64\n"
     ]
    }
   ],
   "source": [
    "print(df_train.groupby('label')['feature4'].value_counts())"
   ]
  },
  {
   "attachments": {},
   "cell_type": "markdown",
   "metadata": {},
   "source": [
    "# TRAIN TEST SPLIT"
   ]
  },
  {
   "cell_type": "code",
   "execution_count": 8,
   "metadata": {},
   "outputs": [],
   "source": [
    "X = df_train.copy()\n",
    "y = X.pop('label')"
   ]
  },
  {
   "cell_type": "code",
   "execution_count": 9,
   "metadata": {},
   "outputs": [],
   "source": [
    "X_train, X_val, y_train, y_val = train_test_split(X, y, stratify=y,\n",
    "                                                  test_size=0.2, random_state=42)"
   ]
  },
  {
   "attachments": {},
   "cell_type": "markdown",
   "metadata": {},
   "source": [
    "# Baseline model"
   ]
  },
  {
   "cell_type": "code",
   "execution_count": 18,
   "metadata": {},
   "outputs": [
    {
     "name": "stdout",
     "output_type": "stream",
     "text": [
      "Baseline score: 0.7455900300638921\n"
     ]
    }
   ],
   "source": [
    "kf = KFold(n_splits=5)\n",
    "oof_preds = pd.Series(index=X_train.index, dtype='float64')\n",
    "\n",
    "for n_fold, (train_index, test_index) in enumerate(kf.split(X_train, y_train)):\n",
    "    X_train_kf, X_oof_kf = X_train.iloc[train_index], X_train.iloc[test_index]\n",
    "    y_train_kf, y_oof_kf = y_train.iloc[train_index], y_train.iloc[test_index]\n",
    "\n",
    "    # Select only numerical features\n",
    "    X_train_kf = X_train_kf.select_dtypes(include='number')\n",
    "    X_oof_kf = X_oof_kf.select_dtypes(include='number')\n",
    "\n",
    "    model = LogisticRegression(max_iter=1000)\n",
    "    model.fit(X_train_kf, y_train_kf)\n",
    "\n",
    "    oof_preds.iloc[test_index] = model.predict(X_oof_kf)\n",
    "\n",
    "print('Baseline score:', roc_auc_score(y_train, oof_preds))"
   ]
  },
  {
   "cell_type": "code",
   "execution_count": 24,
   "metadata": {},
   "outputs": [
    {
     "name": "stdout",
     "output_type": "stream",
     "text": [
      "Predict time: 0.003992319107055664\n",
      "Validation score: 0.7431797686307562\n"
     ]
    }
   ],
   "source": [
    "model = LogisticRegression(max_iter=1000)\n",
    "model.fit(X_train.select_dtypes(include='number'), y_train)\n",
    "\n",
    "t1 = time.time()\n",
    "y_pred = model.predict(X_val.select_dtypes(include='number'))\n",
    "print('Predict time:' ,time.time() - t1)\n",
    "\n",
    "print('Validation score:', roc_auc_score(y_val, y_pred))"
   ]
  },
  {
   "attachments": {},
   "cell_type": "markdown",
   "metadata": {},
   "source": [
    "# Standard Scale"
   ]
  },
  {
   "cell_type": "code",
   "execution_count": 15,
   "metadata": {},
   "outputs": [],
   "source": [
    "scaler = StandardScaler()"
   ]
  },
  {
   "cell_type": "code",
   "execution_count": 25,
   "metadata": {},
   "outputs": [
    {
     "name": "stdout",
     "output_type": "stream",
     "text": [
      "Baseline score: 0.8601681732576839\n"
     ]
    }
   ],
   "source": [
    "kf = KFold(n_splits=5)\n",
    "oof_preds = pd.Series(index=X_train.index, dtype='float64')\n",
    "\n",
    "for n_fold, (train_index, test_index) in enumerate(kf.split(X_train, y_train)):\n",
    "    X_train_kf, X_oof_kf = X_train.iloc[train_index], X_train.iloc[test_index]\n",
    "    y_train_kf, y_oof_kf = y_train.iloc[train_index], y_train.iloc[test_index]\n",
    "\n",
    "    # Select only numerical features\n",
    "    X_train_kf = X_train_kf.select_dtypes(include='number')\n",
    "    X_oof_kf = X_oof_kf.select_dtypes(include='number')\n",
    "\n",
    "    X_train_kf = scaler.fit_transform(X_train_kf)\n",
    "    X_oof_kf = scaler.transform(X_oof_kf)\n",
    "\n",
    "    model = LogisticRegression(max_iter=1000)\n",
    "    model.fit(X_train_kf, y_train_kf)\n",
    "\n",
    "    oof_preds.iloc[test_index] = model.predict(X_oof_kf)\n",
    "\n",
    "print('Baseline score:', roc_auc_score(y_train, oof_preds))"
   ]
  },
  {
   "cell_type": "code",
   "execution_count": 26,
   "metadata": {},
   "outputs": [
    {
     "name": "stdout",
     "output_type": "stream",
     "text": [
      "Predict time: 0.001981019973754883\n",
      "Validation score: 0.8541726320355577\n"
     ]
    }
   ],
   "source": [
    "X_train_scaled = scaler.fit_transform(X_train.select_dtypes(include='number'))\n",
    "X_val_scaled = scaler.transform(X_val.select_dtypes(include='number'))\n",
    "\n",
    "model = LogisticRegression(max_iter=1000)\n",
    "\n",
    "\n",
    "model.fit(X_train_scaled, y_train)\n",
    "t1 = time.time()\n",
    "y_pred = model.predict(X_val_scaled)\n",
    "print('Predict time:' ,time.time() - t1)\n",
    "\n",
    "print('Validation score:', roc_auc_score(y_val, y_pred))"
   ]
  },
  {
   "attachments": {},
   "cell_type": "markdown",
   "metadata": {},
   "source": [
    "# Ordinal Encode"
   ]
  },
  {
   "cell_type": "code",
   "execution_count": 27,
   "metadata": {},
   "outputs": [],
   "source": [
    "encoder = OrdinalEncoder(handle_unknown='use_encoded_value', unknown_value=-1)\n",
    "scaler = StandardScaler()"
   ]
  },
  {
   "cell_type": "code",
   "execution_count": 11,
   "metadata": {},
   "outputs": [],
   "source": [
    "categorical_columns = [\"feature2\", \"feature3\", \"feature4\"]\n",
    "numerical_columns = [\"feature1\", \"feature5\", \"feature6\", \"feature7\", \"feature8\", \"feature9\",\n",
    "                    \"feature10\", \"feature11\", \"feature12\", \"feature13\", \"feature14\", \"feature15\",\n",
    "                    \"feature16\", \"feature17\", \"feature18\", \"feature19\", \"feature20\", \"feature21\",\n",
    "                    \"feature22\", \"feature23\", \"feature24\", \"feature25\", \"feature26\", \"feature27\",\n",
    "                    \"feature28\", \"feature29\", \"feature30\", \"feature31\", \"feature32\", \"feature33\",\n",
    "                    \"feature34\", \"feature35\", \"feature36\", \"feature37\", \"feature38\", \"feature39\",\n",
    "                    \"feature40\", \"feature41\"]"
   ]
  },
  {
   "cell_type": "code",
   "execution_count": 29,
   "metadata": {},
   "outputs": [
    {
     "name": "stdout",
     "output_type": "stream",
     "text": [
      "Baseline score: 0.8708985302600348\n"
     ]
    }
   ],
   "source": [
    "kf = KFold(n_splits=5)\n",
    "oof_preds = pd.Series(index=X_train.index, dtype='float64')\n",
    "\n",
    "for n_fold, (train_index, test_index) in enumerate(kf.split(X_train, y_train)):\n",
    "    X_train_kf, X_oof_kf = X_train.iloc[train_index], X_train.iloc[test_index]\n",
    "    y_train_kf, y_oof_kf = y_train.iloc[train_index], y_train.iloc[test_index]\n",
    "\n",
    "    X_train_cat_kf = encoder.fit_transform(X_train_kf[categorical_columns])\n",
    "    X_oof_cat_kf = encoder.transform(X_oof_kf[categorical_columns])\n",
    "\n",
    "    X_train_kf = scaler.fit_transform(np.concatenate([X_train_kf[numerical_columns], X_train_cat_kf], axis=1))\n",
    "    X_oof_kf = scaler.transform(np.concatenate([X_oof_kf[numerical_columns], X_oof_cat_kf], axis=1))\n",
    "\n",
    "    model = LogisticRegression(max_iter=10000)\n",
    "    model.fit(X_train_kf, y_train_kf)\n",
    "\n",
    "    oof_preds.iloc[test_index] = model.predict(X_oof_kf)\n",
    "\n",
    "print('Baseline score:', roc_auc_score(y_train, oof_preds))"
   ]
  },
  {
   "cell_type": "code",
   "execution_count": 30,
   "metadata": {},
   "outputs": [
    {
     "name": "stdout",
     "output_type": "stream",
     "text": [
      "Predict time: 0.0009965896606445312\n",
      "Validation score: 0.8641553131039714\n"
     ]
    }
   ],
   "source": [
    "X_train_cat = encoder.fit_transform(X_train[categorical_columns])\n",
    "X_val_cat = encoder.transform(X_val[categorical_columns])\n",
    "\n",
    "X_train_solution_3 = scaler.fit_transform(np.concatenate([X_train[numerical_columns], X_train_cat], axis=1))\n",
    "X_val_solution_3 = scaler.transform(np.concatenate([X_val[numerical_columns], X_val_cat], axis=1))\n",
    "\n",
    "model = LogisticRegression(max_iter=1000)\n",
    "model.fit(X_train_solution_3, y_train)\n",
    "t1 = time.time()\n",
    "y_pred = model.predict(X_val_solution_3)\n",
    "print('Predict time:' ,time.time() - t1)\n",
    "\n",
    "print('Validation score:', roc_auc_score(y_val, y_pred))"
   ]
  },
  {
   "attachments": {},
   "cell_type": "markdown",
   "metadata": {},
   "source": [
    "# Onehot encode"
   ]
  },
  {
   "cell_type": "code",
   "execution_count": 31,
   "metadata": {},
   "outputs": [],
   "source": [
    "encoder = OneHotEncoder(handle_unknown='ignore', sparse_output=False)\n",
    "scaler = StandardScaler()"
   ]
  },
  {
   "cell_type": "code",
   "execution_count": 32,
   "metadata": {},
   "outputs": [
    {
     "name": "stdout",
     "output_type": "stream",
     "text": [
      "Baseline score: 0.8777910780263007\n"
     ]
    }
   ],
   "source": [
    "kf = KFold(n_splits=5)\n",
    "oof_preds = pd.Series(index=X_train.index, dtype='float64')\n",
    "\n",
    "for n_fold, (train_index, test_index) in enumerate(kf.split(X_train, y_train)):\n",
    "    X_train_kf, X_oof_kf = X_train.iloc[train_index], X_train.iloc[test_index]\n",
    "    y_train_kf, y_oof_kf = y_train.iloc[train_index], y_train.iloc[test_index]\n",
    "\n",
    "    X_train_cat_kf = encoder.fit_transform(X_train_kf[categorical_columns])\n",
    "    X_oof_cat_kf = encoder.transform(X_oof_kf[categorical_columns])\n",
    "\n",
    "    X_train_kf = scaler.fit_transform(np.concatenate([X_train_kf[numerical_columns], X_train_cat_kf], axis=1))\n",
    "    X_oof_kf = scaler.transform(np.concatenate([X_oof_kf[numerical_columns], X_oof_cat_kf], axis=1))\n",
    "\n",
    "    model = LogisticRegression(max_iter=10000)\n",
    "    model.fit(X_train_kf, y_train_kf)\n",
    "\n",
    "    oof_preds.iloc[test_index] = model.predict(X_oof_kf)\n",
    "\n",
    "print('Baseline score:', roc_auc_score(y_train, oof_preds))"
   ]
  },
  {
   "cell_type": "code",
   "execution_count": 33,
   "metadata": {},
   "outputs": [
    {
     "name": "stdout",
     "output_type": "stream",
     "text": [
      "Predict time: 0.005040645599365234\n",
      "Validation score: 0.8703717958434225\n"
     ]
    }
   ],
   "source": [
    "X_train_cat = encoder.fit_transform(X_train[categorical_columns])\n",
    "X_val_cat = encoder.transform(X_val[categorical_columns])\n",
    "\n",
    "X_train_solution_3 = scaler.fit_transform(np.concatenate([X_train[numerical_columns], X_train_cat], axis=1))\n",
    "X_val_solution_3 = scaler.transform(np.concatenate([X_val[numerical_columns], X_val_cat], axis=1))\n",
    "\n",
    "model = LogisticRegression(max_iter=1000)\n",
    "model.fit(X_train_solution_3, y_train)\n",
    "\n",
    "t1 = time.time()\n",
    "y_pred = model.predict(X_val_solution_3)\n",
    "print('Predict time:' ,time.time() - t1)\n",
    "\n",
    "print('Validation score:', roc_auc_score(y_val, y_pred))"
   ]
  },
  {
   "attachments": {},
   "cell_type": "markdown",
   "metadata": {},
   "source": [
    "# Bla"
   ]
  },
  {
   "cell_type": "code",
   "execution_count": 107,
   "metadata": {},
   "outputs": [],
   "source": [
    "categorical_columns = [\"feature2\", \"feature3\", \"feature4\"]\n",
    "numerical_columns = [\"feature1\", \"feature5\", \"feature6\", \"feature7\", \"feature8\", \"feature9\",\n",
    "                    \"feature10\", \"feature11\", \"feature12\", \"feature13\", \"feature14\", \"feature15\",\n",
    "                    \"feature16\", \"feature17\", \"feature18\", \"feature19\", \"feature20\", \"feature21\",\n",
    "                    \"feature22\", \"feature23\", \"feature24\", \"feature25\", \"feature26\", \"feature27\",\n",
    "                    \"feature28\", \"feature29\", \"feature30\", \"feature31\", \"feature32\", \"feature33\",\n",
    "                    \"feature34\", \"feature35\", \"feature36\", \"feature37\", \"feature38\", \"feature39\",\n",
    "                    \"feature40\", \"feature41\"]"
   ]
  },
  {
   "cell_type": "code",
   "execution_count": 108,
   "metadata": {},
   "outputs": [],
   "source": [
    "encoder = OneHotEncoder(handle_unknown='ignore', sparse_output=False)\n",
    "scaler = StandardScaler()"
   ]
  },
  {
   "cell_type": "code",
   "execution_count": 16,
   "metadata": {},
   "outputs": [],
   "source": [
    "models = {\n",
    "    'linear model': LogisticRegression(max_iter=10000),\n",
    "    'random forest': RandomForestClassifier(random_state=42),\n",
    "    'xgboost': XGBClassifier(random_state=42),\n",
    "    'catboost': CatBoostClassifier(random_state=42, verbose=0),\n",
    "    'lightgbm': LGBMClassifier(random_state=42),\n",
    "}"
   ]
  },
  {
   "cell_type": "code",
   "execution_count": 20,
   "metadata": {},
   "outputs": [
    {
     "name": "stdout",
     "output_type": "stream",
     "text": [
      "Fitting linear model...\n"
     ]
    },
    {
     "name": "stderr",
     "output_type": "stream",
     "text": [
      "100%|██████████| 5/5 [00:26<00:00,  5.22s/it]\n"
     ]
    },
    {
     "name": "stdout",
     "output_type": "stream",
     "text": [
      "Score for linear model: 0.8777910780263007\n",
      "Fitting random forest...\n"
     ]
    },
    {
     "name": "stderr",
     "output_type": "stream",
     "text": [
      "100%|██████████| 5/5 [00:51<00:00, 10.33s/it]\n"
     ]
    },
    {
     "name": "stdout",
     "output_type": "stream",
     "text": [
      "Score for random forest: 0.9346208700357924\n",
      "Fitting xgboost...\n"
     ]
    },
    {
     "name": "stderr",
     "output_type": "stream",
     "text": [
      "100%|██████████| 5/5 [00:20<00:00,  4.07s/it]\n"
     ]
    },
    {
     "name": "stdout",
     "output_type": "stream",
     "text": [
      "Score for xgboost: 0.9368042665706614\n",
      "Fitting catboost...\n"
     ]
    },
    {
     "name": "stderr",
     "output_type": "stream",
     "text": [
      "100%|██████████| 5/5 [01:55<00:00, 23.16s/it]\n"
     ]
    },
    {
     "name": "stdout",
     "output_type": "stream",
     "text": [
      "Score for catboost: 0.9378446224352149\n",
      "Fitting lightgbm...\n"
     ]
    },
    {
     "name": "stderr",
     "output_type": "stream",
     "text": [
      "100%|██████████| 5/5 [00:06<00:00,  1.34s/it]"
     ]
    },
    {
     "name": "stdout",
     "output_type": "stream",
     "text": [
      "Score for lightgbm: 0.9387152922243147\n"
     ]
    },
    {
     "name": "stderr",
     "output_type": "stream",
     "text": [
      "\n"
     ]
    }
   ],
   "source": [
    "for model_name in models:\n",
    "    print(f'Fitting {model_name}...')\n",
    "    kf = KFold(n_splits=5)\n",
    "    oof_preds = pd.Series(index=X_train.index, dtype='float64')\n",
    "    for train_index, test_index in tqdm(kf.split(X_train, y_train), total=kf.get_n_splits()):\n",
    "        X_train_kf, X_oof_kf = X_train.iloc[train_index], X_train.iloc[test_index]\n",
    "        y_train_kf, y_oof_kf = y_train.iloc[train_index], y_train.iloc[test_index]\n",
    "\n",
    "        X_train_cat_kf = encoder.fit_transform(X_train_kf[categorical_columns])\n",
    "        X_oof_cat_kf = encoder.transform(X_oof_kf[categorical_columns])\n",
    "\n",
    "        X_train_kf = scaler.fit_transform(np.concatenate([X_train_kf[numerical_columns], X_train_cat_kf], axis=1))\n",
    "        X_oof_kf = scaler.transform(np.concatenate([X_oof_kf[numerical_columns], X_oof_cat_kf], axis=1))\n",
    "\n",
    "        model = models[model_name]\n",
    "        model.fit(X_train_kf, y_train_kf)\n",
    "\n",
    "        oof_preds.iloc[test_index] = model.predict(X_oof_kf)\n",
    "    \n",
    "    print(f'Score for {model_name}:', roc_auc_score(y_train, oof_preds))"
   ]
  },
  {
   "cell_type": "code",
   "execution_count": 68,
   "metadata": {},
   "outputs": [
    {
     "name": "stdout",
     "output_type": "stream",
     "text": [
      "Predict time: 0.011000394821166992\n",
      "Validation score: 0.9344855619630779\n"
     ]
    }
   ],
   "source": [
    "X_train_cat = encoder.fit_transform(X_train[categorical_columns])\n",
    "X_val_cat = encoder.transform(X_val[categorical_columns])\n",
    "\n",
    "X_train_num = scaler.fit_transform(X_train[numerical_columns])\n",
    "X_val_num = scaler.transform(X_val[numerical_columns])\n",
    "\n",
    "X_train_solution_3 = np.concatenate([X_train_num, X_train_cat], axis=1)\n",
    "X_val_solution_3 = np.concatenate([X_val_num, X_val_cat], axis=1)\n",
    "\n",
    "model = LGBMClassifier(random_state=42)\n",
    "model.fit(X_train_solution_3, y_train)\n",
    "\n",
    "t1 = time.time()\n",
    "y_pred = model.predict(X_val_solution_3)\n",
    "print('Predict time:' ,time.time() - t1)\n",
    "\n",
    "print('Validation score:', roc_auc_score(y_val, y_pred))"
   ]
  },
  {
   "cell_type": "code",
   "execution_count": 24,
   "metadata": {},
   "outputs": [
    {
     "name": "stdout",
     "output_type": "stream",
     "text": [
      "Predict time: 0.013005256652832031\n",
      "Validation score: 0.9338303359376915\n"
     ]
    }
   ],
   "source": [
    "X_train_cat = encoder.fit_transform(X_train[categorical_columns])\n",
    "X_val_cat = encoder.transform(X_val[categorical_columns])\n",
    "\n",
    "X_train_num = scaler.fit_transform(X_train[numerical_columns])\n",
    "X_val_num = scaler.transform(X_val[numerical_columns])\n",
    "\n",
    "X_train_solution_3 = np.concatenate([X_train_num, X_train_cat], axis=1)\n",
    "X_val_solution_3 = np.concatenate([X_val_num, X_val_cat], axis=1)\n",
    "\n",
    "model = XGBClassifier(random_state=42)\n",
    "model.fit(X_train_solution_3, y_train)\n",
    "\n",
    "t1 = time.time()\n",
    "y_pred = model.predict(X_val_solution_3)\n",
    "print('Predict time:' ,time.time() - t1)\n",
    "\n",
    "print('Validation score:', roc_auc_score(y_val, y_pred))"
   ]
  },
  {
   "cell_type": "markdown",
   "metadata": {},
   "source": [
    "# BLA LA LA"
   ]
  },
  {
   "cell_type": "code",
   "execution_count": 94,
   "metadata": {},
   "outputs": [
    {
     "data": {
      "text/plain": [
       "-           27194\n",
       "dns         13113\n",
       "http         5216\n",
       "smtp         1356\n",
       "ftp-data     1015\n",
       "ftp           918\n",
       "pop3          301\n",
       "ssh           277\n",
       "dhcp           32\n",
       "ssl            22\n",
       "snmp           17\n",
       "irc             7\n",
       "radius          4\n",
       "Name: feature3, dtype: int64"
      ]
     },
     "execution_count": 94,
     "metadata": {},
     "output_type": "execute_result"
    }
   ],
   "source": [
    "X_train['feature3'].value_counts()"
   ]
  },
  {
   "cell_type": "markdown",
   "metadata": {},
   "source": [
    "# Tuning"
   ]
  },
  {
   "cell_type": "code",
   "execution_count": 112,
   "metadata": {},
   "outputs": [],
   "source": [
    "params = {'learning_rate': 0.0896699585809208, 'n_estimators': 6174, 'max_depth': 12, 'num_leaves': 397, 'tree_learner': 'serial', 'min_child_samples': 22, 'min_child_weight': 0.11941736917167599, 'subsample': 0.39882930631767044, 'pos_bagging_fraction': 0.623668964456346, 'neg_bagging_fraction': 0.9904104607995861, 'subsample_freq': 19, 'colsample_bytree': 0.48831301443739894, 'feature_fraction_bynode': 0.8839962199300008, 'extra_trees': False, 'reg_alpha': 0.11239683811060446, 'linear_lambda': 0.7000671833692591, 'max_delta_step': 5, 'min_split_gain': 2}"
   ]
  },
  {
   "cell_type": "code",
   "execution_count": 114,
   "metadata": {},
   "outputs": [
    {
     "name": "stderr",
     "output_type": "stream",
     "text": [
      "100%|██████████| 5/5 [00:04<00:00,  1.01it/s]"
     ]
    },
    {
     "name": "stdout",
     "output_type": "stream",
     "text": [
      "oof score: 0.9435763408320413\n"
     ]
    },
    {
     "name": "stderr",
     "output_type": "stream",
     "text": [
      "\n"
     ]
    }
   ],
   "source": [
    "kf = KFold(n_splits=5)\n",
    "oof_preds = pd.Series(index=X_train.index, dtype='float64')\n",
    "\n",
    "for train_index, test_index in tqdm(kf.split(X_train, y_train), total=kf.get_n_splits()):\n",
    "    X_train_kf, X_oof_kf = X_train.iloc[train_index], X_train.iloc[test_index]\n",
    "    y_train_kf, y_oof_kf = y_train.iloc[train_index], y_train.iloc[test_index]\n",
    "\n",
    "    X_train_cat_kf = encoder.fit_transform(X_train_kf[categorical_columns])\n",
    "    X_oof_cat_kf = encoder.transform(X_oof_kf[categorical_columns])\n",
    "\n",
    "    X_train_num_kf = scaler.fit_transform(X_train_kf[numerical_columns])\n",
    "    X_oof_num_kf = scaler.transform(X_oof_kf[numerical_columns])\n",
    "\n",
    "    X_train_kf = np.concatenate([X_train_num_kf, X_train_cat_kf], axis=1)\n",
    "    X_oof_kf = np.concatenate([X_oof_num_kf, X_oof_cat_kf], axis=1)\n",
    "\n",
    "\n",
    "    model = LGBMClassifier(**params, objective='binary', random_state=42, early_stopping_round=300, metric='auc')\n",
    "    model.fit(X_train_kf, y_train_kf, eval_set=[(X_oof_kf, y_oof_kf)], callbacks=[lgbm.log_evaluation(0)], eval_metric='auc')\n",
    "\n",
    "    oof_preds.iloc[test_index] = model.predict(X_oof_kf)\n",
    "\n",
    "print('oof score:', roc_auc_score(y_train, oof_preds))"
   ]
  },
  {
   "cell_type": "code",
   "execution_count": 116,
   "metadata": {},
   "outputs": [
    {
     "name": "stdout",
     "output_type": "stream",
     "text": [
      "Predict time: 0.01099848747253418\n",
      "Validation score: 0.9418107755461598\n"
     ]
    }
   ],
   "source": [
    "X_train_cat = encoder.fit_transform(X_train[categorical_columns])\n",
    "X_val_cat = encoder.transform(X_val[categorical_columns])\n",
    "\n",
    "X_train_num = scaler.fit_transform(X_train[numerical_columns])\n",
    "X_val_num = scaler.transform(X_val[numerical_columns])\n",
    "\n",
    "X_train_solution_3 = np.concatenate([X_train_num, X_train_cat], axis=1)\n",
    "X_val_solution_3 = np.concatenate([X_val_num, X_val_cat], axis=1)\n",
    "\n",
    "model = LGBMClassifier(**params, objective='binary', random_state=42, early_stopping_round=300, metric='auc')\n",
    "model.fit(X_train_solution_3, y_train, eval_set=[(X_val_solution_3, y_val)], callbacks=[lgbm.log_evaluation(0)], eval_metric='auc')\n",
    "\n",
    "t1 = time.time()\n",
    "y_pred = model.predict(X_val_solution_3)\n",
    "print('Predict time:' ,time.time() - t1)\n",
    "\n",
    "print('Validation score:', roc_auc_score(y_val, y_pred))"
   ]
  },
  {
   "attachments": {},
   "cell_type": "markdown",
   "metadata": {},
   "source": [
    "# Poly"
   ]
  },
  {
   "cell_type": "code",
   "execution_count": 11,
   "metadata": {},
   "outputs": [],
   "source": [
    "poly = PolynomialFeatures(degree=2, interaction_only=True, include_bias=False)\n",
    "scaler = StandardScaler()\n",
    "encoder = OneHotEncoder(handle_unknown='ignore', sparse_output=False)"
   ]
  },
  {
   "cell_type": "code",
   "execution_count": 12,
   "metadata": {},
   "outputs": [
    {
     "name": "stderr",
     "output_type": "stream",
     "text": [
      "100%|██████████| 5/5 [00:36<00:00,  7.32s/it]"
     ]
    },
    {
     "name": "stdout",
     "output_type": "stream",
     "text": [
      "Baseline score: 0.9394764773111298\n"
     ]
    },
    {
     "name": "stderr",
     "output_type": "stream",
     "text": [
      "\n"
     ]
    }
   ],
   "source": [
    "kf = KFold(n_splits=5)\n",
    "oof_preds = pd.Series(index=X_train.index, dtype='float64')\n",
    "\n",
    "for train_index, test_index in tqdm(kf.split(X_train, y_train), total=kf.get_n_splits()):\n",
    "    X_train_kf, X_oof_kf = X_train.iloc[train_index], X_train.iloc[test_index]\n",
    "    y_train_kf, y_oof_kf = y_train.iloc[train_index], y_train.iloc[test_index]\n",
    "\n",
    "    X_train_cat_kf = encoder.fit_transform(X_train_kf[categorical_columns])\n",
    "    X_oof_cat_kf = encoder.transform(X_oof_kf[categorical_columns])\n",
    "\n",
    "    X_train_num_kf = scaler.fit_transform(X_train_kf[numerical_columns])\n",
    "    X_oof_num_kf = scaler.transform(X_oof_kf[numerical_columns])\n",
    "\n",
    "    X_train_num_kf = poly.fit_transform(X_train_num_kf)\n",
    "    X_oof_num_kf = poly.transform(X_oof_num_kf)\n",
    "\n",
    "    X_train_kf = np.concatenate([X_train_num_kf, X_train_cat_kf], axis=1)\n",
    "    X_oof_kf = np.concatenate([X_oof_num_kf, X_oof_cat_kf], axis=1)\n",
    "\n",
    "    # model = XGBClassifier(random_state=42, tree_method='gpu_hist')\n",
    "    model = LGBMClassifier(random_state=42)\n",
    "    model.fit(X_train_kf, y_train_kf)\n",
    "\n",
    "    oof_preds.iloc[test_index] = model.predict(X_oof_kf)\n",
    "\n",
    "print('Baseline score:', roc_auc_score(y_train, oof_preds))"
   ]
  },
  {
   "cell_type": "code",
   "execution_count": 13,
   "metadata": {},
   "outputs": [
    {
     "name": "stdout",
     "output_type": "stream",
     "text": [
      "Predict time: 0.014995336532592773\n",
      "Validation score: 0.934111197626844\n"
     ]
    }
   ],
   "source": [
    "X_train_cat = encoder.fit_transform(X_train[categorical_columns])\n",
    "X_val_cat = encoder.transform(X_val[categorical_columns])\n",
    "\n",
    "X_train_num = poly.fit_transform(X_train[numerical_columns])\n",
    "X_val_num = poly.transform(X_val[numerical_columns])\n",
    "\n",
    "X_train_num = scaler.fit_transform(X_train_num)\n",
    "X_val_num = scaler.transform(X_val_num)\n",
    "\n",
    "X_train_solution_3 = np.concatenate([X_train_num, X_train_cat], axis=1)\n",
    "X_val_solution_3 = np.concatenate([X_val_num, X_val_cat], axis=1)\n",
    "\n",
    "# model = XGBClassifier(random_state=42, tree_method='gpu_hist')\n",
    "model = LGBMClassifier(random_state=42)\n",
    "model.fit(X_train_solution_3, y_train)\n",
    "\n",
    "t1 = time.time()\n",
    "y_pred = model.predict(X_val_solution_3)\n",
    "print('Predict time:' ,time.time() - t1)\n",
    "\n",
    "print('Validation score:', roc_auc_score(y_val, y_pred))"
   ]
  },
  {
   "cell_type": "markdown",
   "metadata": {},
   "source": [
    "# Select importance features"
   ]
  },
  {
   "cell_type": "code",
   "execution_count": 117,
   "metadata": {},
   "outputs": [
    {
     "data": {
      "text/plain": [
       "<BarContainer object of 190 artists>"
      ]
     },
     "execution_count": 117,
     "metadata": {},
     "output_type": "execute_result"
    },
    {
     "data": {
      "image/png": "[encoded data removed]",
      "text/plain": [
       "<Figure size 640x480 with 1 Axes>"
      ]
     },
     "metadata": {},
     "output_type": "display_data"
    }
   ],
   "source": [
    "import matplotlib.pyplot as plt\n",
    "\n",
    "plt.bar(range(len(model.feature_importances_)), np.sort(model.feature_importances_))"
   ]
  },
  {
   "cell_type": "code",
   "execution_count": 118,
   "metadata": {},
   "outputs": [
    {
     "data": {
      "text/plain": [
       "array([  0,   0,   0,   0,   0,   0,   0,   0,   0,   0,   0,   0,   0,\n",
       "         0,   0,   0,   0,   0,   0,   0,   0,   0,   0,   0,   0,   0,\n",
       "         0,   0,   0,   0,   0,   0,   0,   0,   0,   0,   0,   0,   0,\n",
       "         0,   0,   0,   0,   0,   0,   0,   0,   0,   0,   0,   0,   0,\n",
       "         0,   0,   0,   0,   0,   0,   0,   0,   0,   0,   0,   0,   0,\n",
       "         0,   0,   0,   0,   0,   0,   0,   0,   0,   0,   0,   0,   0,\n",
       "         0,   0,   0,   0,   0,   0,   0,   0,   0,   0,   0,   0,   0,\n",
       "         0,   0,   0,   0,   0,   0,   0,   0,   0,   0,   0,   0,   0,\n",
       "         0,   0,   0,   0,   0,   0,   0,   0,   0,   0,   0,   0,   0,\n",
       "         0,   0,   0,   0,   0,   0,   0,   0,   0,   0,   0,   0,   0,\n",
       "         0,   0,   0,   0,   0,   0,   1,   1,   1,   2,   2,   2,   3,\n",
       "         5,   6,   6,   7,   8,   9,  10,  11,  13,  14,  16,  17,  20,\n",
       "        26,  29,  29,  32,  44,  53,  62,  63,  65,  70,  72,  74,  75,\n",
       "        79,  84,  84,  85,  87,  93, 101, 115, 119, 147, 155, 158, 169,\n",
       "       178, 189, 192, 192, 196, 303, 494, 621])"
      ]
     },
     "execution_count": 118,
     "metadata": {},
     "output_type": "execute_result"
    }
   ],
   "source": [
    "np.sort(model.feature_importances_)"
   ]
  },
  {
   "cell_type": "code",
   "execution_count": 119,
   "metadata": {},
   "outputs": [],
   "source": [
    "featurer_importances = [i for i, j in enumerate(model.feature_importances_) if j > 0]"
   ]
  },
  {
   "cell_type": "code",
   "execution_count": 97,
   "metadata": {},
   "outputs": [
    {
     "name": "stdout",
     "output_type": "stream",
     "text": [
      "0, 1, 2, 3, 4, 5, 7, 8, 9, 10, 11, 12, 13, 14, 15, 16, 17, 19, 20, 21, 22, 23, 24, 25, 26, 27, 28, 29, 30, 31, 32, 34, 35, 36, 116, 134, 156, 157, 170, 171, 172, 173, 175, 179, 184, 187, "
     ]
    }
   ],
   "source": [
    "for i in featurer_importances:\n",
    "    print(i, end=', ')"
   ]
  },
  {
   "cell_type": "code",
   "execution_count": 120,
   "metadata": {},
   "outputs": [
    {
     "name": "stderr",
     "output_type": "stream",
     "text": [
      "100%|██████████| 5/5 [00:04<00:00,  1.13it/s]"
     ]
    },
    {
     "name": "stdout",
     "output_type": "stream",
     "text": [
      "Baseline score: 0.9434261982677176\n"
     ]
    },
    {
     "name": "stderr",
     "output_type": "stream",
     "text": [
      "\n"
     ]
    }
   ],
   "source": [
    "kf = KFold(n_splits=5)\n",
    "oof_preds = pd.Series(index=X_train.index, dtype='float64')\n",
    "\n",
    "for train_index, test_index in tqdm(kf.split(X_train, y_train), total=kf.get_n_splits()):\n",
    "    X_train_kf, X_oof_kf = X_train.iloc[train_index], X_train.iloc[test_index]\n",
    "    y_train_kf, y_oof_kf = y_train.iloc[train_index], y_train.iloc[test_index]\n",
    "\n",
    "    X_train_cat_kf = encoder.fit_transform(X_train_kf[categorical_columns])\n",
    "    X_oof_cat_kf = encoder.transform(X_oof_kf[categorical_columns])\n",
    "\n",
    "    X_train_num_kf = scaler.fit_transform(X_train_kf[numerical_columns])\n",
    "    X_oof_num_kf = scaler.transform(X_oof_kf[numerical_columns])\n",
    "\n",
    "    # X_train_num_kf = poly.fit_transform(X_train_num_kf)\n",
    "    # X_oof_num_kf = poly.transform(X_oof_num_kf)\n",
    "\n",
    "    X_train_kf = np.concatenate([X_train_num_kf, X_train_cat_kf], axis=1)\n",
    "    X_oof_kf = np.concatenate([X_oof_num_kf, X_oof_cat_kf], axis=1)\n",
    "\n",
    "    X_train_kf = X_train_kf[:, featurer_importances]\n",
    "    X_oof_kf = X_oof_kf[:, featurer_importances]\n",
    "\n",
    "    # model = LGBMClassifier(random_state=42)\n",
    "    # model.fit(X_train_kf, y_train_kf)\n",
    "\n",
    "    model = LGBMClassifier(**params, objective='binary', random_state=42, early_stopping_round=300, metric='auc')\n",
    "    model.fit(X_train_kf, y_train_kf, eval_set=[(X_oof_kf, y_oof_kf)], callbacks=[lgbm.log_evaluation(0)], eval_metric='auc')\n",
    "\n",
    "    oof_preds.iloc[test_index] = model.predict(X_oof_kf)\n",
    "\n",
    "print('Baseline score:', roc_auc_score(y_train, oof_preds))"
   ]
  },
  {
   "cell_type": "code",
   "execution_count": 121,
   "metadata": {},
   "outputs": [
    {
     "name": "stdout",
     "output_type": "stream",
     "text": [
      "Predict time: 0.014000654220581055\n",
      "Validation score: 0.9414124412516698\n"
     ]
    }
   ],
   "source": [
    "X_train_cat = encoder.fit_transform(X_train[categorical_columns])\n",
    "X_val_cat = encoder.transform(X_val[categorical_columns])\n",
    "\n",
    "# X_train_num = poly.fit_transform(X_train[numerical_columns])\n",
    "# X_val_num = poly.transform(X_val[numerical_columns])\n",
    "\n",
    "X_train_num = scaler.fit_transform(X_train_num)\n",
    "X_val_num = scaler.transform(X_val_num)\n",
    "\n",
    "X_train_solution_3 = np.concatenate([X_train_num, X_train_cat], axis=1)\n",
    "X_val_solution_3 = np.concatenate([X_val_num, X_val_cat], axis=1)\n",
    "\n",
    "X_train_solution_3 = X_train_solution_3[:, featurer_importances]\n",
    "X_val_solution_3 = X_val_solution_3[:, featurer_importances]\n",
    "\n",
    "# model = LGBMClassifier(random_state=42)\n",
    "# model.fit(X_train_solution_3, y_train)\n",
    "\n",
    "model = LGBMClassifier(**params, objective='binary', random_state=42, early_stopping_round=300, metric='auc')\n",
    "model.fit(X_train_solution_3, y_train, eval_set=[(X_val_solution_3, y_val)], callbacks=[lgbm.log_evaluation(0)], eval_metric='auc')\n",
    "\n",
    "t1 = time.time()\n",
    "y_pred = model.predict(X_val_solution_3)\n",
    "print('Predict time:' ,time.time() - t1)\n",
    "\n",
    "print('Validation score:', roc_auc_score(y_val, y_pred))"
   ]
  },
  {
   "attachments": {},
   "cell_type": "markdown",
   "metadata": {},
   "source": [
    "# SMOTEN"
   ]
  },
  {
   "cell_type": "code",
   "execution_count": 98,
   "metadata": {},
   "outputs": [],
   "source": [
    "from imblearn.over_sampling import SMOTE\n",
    "from imblearn.combine import SMOTETomek"
   ]
  },
  {
   "cell_type": "code",
   "execution_count": 122,
   "metadata": {},
   "outputs": [],
   "source": [
    "sm = SMOTE(random_state=42)\n",
    "# sm = SMOTETomek(random_state=42)"
   ]
  },
  {
   "cell_type": "code",
   "execution_count": 123,
   "metadata": {},
   "outputs": [
    {
     "name": "stderr",
     "output_type": "stream",
     "text": [
      "100%|██████████| 5/5 [00:11<00:00,  2.24s/it]"
     ]
    },
    {
     "name": "stdout",
     "output_type": "stream",
     "text": [
      "Baseline score: 0.9429464411563419\n"
     ]
    },
    {
     "name": "stderr",
     "output_type": "stream",
     "text": [
      "\n"
     ]
    }
   ],
   "source": [
    "kf = KFold(n_splits=5)\n",
    "oof_preds = pd.Series(index=X_train.index, dtype='float64')\n",
    "\n",
    "for train_index, test_index in tqdm(kf.split(X_train, y_train), total=kf.get_n_splits()):\n",
    "    X_train_kf, X_oof_kf = X_train.iloc[train_index], X_train.iloc[test_index]\n",
    "    y_train_kf, y_oof_kf = y_train.iloc[train_index], y_train.iloc[test_index]\n",
    "\n",
    "    X_train_cat_kf = encoder.fit_transform(X_train_kf[categorical_columns])\n",
    "    X_oof_cat_kf = encoder.transform(X_oof_kf[categorical_columns])\n",
    "\n",
    "    X_train_num_kf = scaler.fit_transform(X_train_kf[numerical_columns])\n",
    "    X_oof_num_kf = scaler.transform(X_oof_kf[numerical_columns])\n",
    "\n",
    "    # X_train_num_kf = poly.fit_transform(X_train_num_kf)\n",
    "    # X_oof_num_kf = poly.transform(X_oof_num_kf)\n",
    "\n",
    "    X_train_kf = np.concatenate([X_train_num_kf, X_train_cat_kf], axis=1)\n",
    "    X_oof_kf = np.concatenate([X_oof_num_kf, X_oof_cat_kf], axis=1)\n",
    "\n",
    "    # X_train_kf = X_train_kf[:, featurer_importances]\n",
    "    # X_oof_kf = X_oof_kf[:, featurer_importances]\n",
    "\n",
    "    X_train_kf, y_train_kf = sm.fit_resample(X_train_kf, y_train_kf)\n",
    "\n",
    "    # model = LGBMClassifier(random_state=42)\n",
    "    # model.fit(X_train_kf, y_train_kf)\n",
    "\n",
    "    model = LGBMClassifier(**params, objective='binary', random_state=42, early_stopping_round=300, metric='auc')\n",
    "    model.fit(X_train_kf, y_train_kf, eval_set=[(X_oof_kf, y_oof_kf)], callbacks=[lgbm.log_evaluation(0)], eval_metric='auc')\n",
    "\n",
    "    oof_preds.iloc[test_index] = model.predict(X_oof_kf)\n",
    "\n",
    "print('Baseline score:', roc_auc_score(y_train, oof_preds))"
   ]
  },
  {
   "cell_type": "code",
   "execution_count": 124,
   "metadata": {},
   "outputs": [
    {
     "name": "stdout",
     "output_type": "stream",
     "text": [
      "Predict time: 0.01300358772277832\n",
      "Validation score: 0.9428492662051492\n"
     ]
    }
   ],
   "source": [
    "X_train_cat = encoder.fit_transform(X_train[categorical_columns])\n",
    "X_val_cat = encoder.transform(X_val[categorical_columns])\n",
    "\n",
    "X_train_num = scaler.fit_transform(X_train[numerical_columns])\n",
    "X_val_num = scaler.transform(X_val[numerical_columns])\n",
    "\n",
    "# X_train_num = poly.fit_transform(X_train_num)\n",
    "# X_val_num = poly.transform(X_val_num)\n",
    "\n",
    "X_train_solution_3 = np.concatenate([X_train_num, X_train_cat], axis=1)\n",
    "X_val_solution_3 = np.concatenate([X_val_num, X_val_cat], axis=1)\n",
    "\n",
    "# X_train_solution_3 = X_train_solution_3[:, featurer_importances]\n",
    "# X_val_solution_3 = X_val_solution_3[:, featurer_importances]\n",
    "\n",
    "X_res, y_res = sm.fit_resample(X_train_solution_3, y_train)\n",
    "\n",
    "# model = LGBMClassifier(random_state=42)\n",
    "# model.fit(X_res, y_res)\n",
    "\n",
    "model = LGBMClassifier(**params, objective='binary', random_state=42, early_stopping_round=300, metric='auc')\n",
    "model.fit(X_res, y_res, eval_set=[(X_val_solution_3, y_val)], callbacks=[lgbm.log_evaluation(0)], eval_metric='auc')\n",
    "\n",
    "t1 = time.time()\n",
    "y_pred = model.predict(X_val_solution_3)\n",
    "print('Predict time:' ,time.time() - t1)\n",
    "\n",
    "print('Validation score:', roc_auc_score(y_val, y_pred))"
   ]
  },
  {
   "attachments": {},
   "cell_type": "markdown",
   "metadata": {},
   "source": [
    "# Stacking"
   ]
  },
  {
   "cell_type": "code",
   "execution_count": 39,
   "metadata": {},
   "outputs": [],
   "source": [
    "from sklearn.ensemble import StackingClassifier"
   ]
  },
  {
   "cell_type": "code",
   "execution_count": 40,
   "metadata": {},
   "outputs": [
    {
     "name": "stdout",
     "output_type": "stream",
     "text": [
      "Predict time: 0.7475173473358154\n",
      "Validation score: 0.9330394829643214\n"
     ]
    }
   ],
   "source": [
    "estimators = [\n",
    "    ('rf', RandomForestClassifier(random_state=42)),\n",
    "    ('xgb', XGBClassifier(random_state=42)),\n",
    "    ('cat', CatBoostClassifier(random_state=42, verbose=0)),\n",
    "    ('lgbm', LGBMClassifier(random_state=42))\n",
    "]\n",
    "\n",
    "X_train_cat = encoder.fit_transform(X_train[categorical_columns])\n",
    "X_val_cat = encoder.transform(X_val[categorical_columns])\n",
    "\n",
    "X_train_num = scaler.fit_transform(X_train[numerical_columns])\n",
    "X_val_num = scaler.transform(X_val[numerical_columns])\n",
    "\n",
    "X_train_solution_3 = np.concatenate([X_train_num, X_train_cat], axis=1)\n",
    "X_val_solution_3 = np.concatenate([X_val_num, X_val_cat], axis=1)\n",
    "\n",
    "model = StackingClassifier(estimators=estimators, final_estimator=LogisticRegression(max_iter=10000))\n",
    "model.fit(X_train_solution_3, y_train)\n",
    "\n",
    "t1 = time.time()\n",
    "y_pred = model.predict(X_val_solution_3)\n",
    "print('Predict time:' ,time.time() - t1)\n",
    "\n",
    "print('Validation score:', roc_auc_score(y_val, y_pred))\n"
   ]
  },
  {
   "cell_type": "code",
   "execution_count": null,
   "metadata": {},
   "outputs": [],
   "source": [
    "model = LGBMClassifier(**params, objective='binary', random_state=42, early_stopping_round=300, metric='auc')\n",
    "model.fit(X_train_kf, y_train_kf, eval_set=[(X_oof_kf, y_oof_kf)], callbacks=[lgbm.log_evaluation(0), ], verbose=0, eval_metric='auc')"
   ]
  },
  {
   "attachments": {},
   "cell_type": "markdown",
   "metadata": {},
   "source": [
    "# Summary\n",
    "***updating...*"
   ]
  },
  {
   "attachments": {},
   "cell_type": "markdown",
   "metadata": {},
   "source": [
    "|   | out-of-fold score | validation score | testing score | predict Time | response Time | submitted |\n",
    "|---|-------------------|------------------|---------------|--------------|---------------|-----------|\n",
    "| only numerical features + logistic regression | 0.745590 | 0.743180 | 0.752868 | 0.004 | 1.40 | **true** |\n",
    "| standard scale (only numerical features) + logistic regression | 0.860168 | 0.854172 | ... | 0.002 | ... | false |\n",
    "| ordinal-encode + standard scale + logistic regression | 0.870898 | 0.864155 | 0.862647 | 0.0001 | 1.70 | **true** |\n",
    "| onehot-encode + standard scale + logistic regression | 0.877791 | 0.870372 | ... | 0.005 | ... |false |\n",
    "| onehot-encode + standard scale + XGB | 0.936804 | 0.933830 | 0.946229 | 0.009 | 1.60 | **true** |\n",
    "| onehot-encode + standard scale + LGBM | 0.938715 | 0.934486 | ... | ... | ... | false |\n",
    "| **onehot-encode + standard scale + LGBM (tuned)** | **0.943576** | 0.941811 | ... | ... | ... | false |\n",
    "| **onehot-encode + standard scale + LGBM + SMOTE (tuned)** | 0.942946 | **0.942849** | ... | ... | ... | false |\n",
    "| onehot-encode + standard scale + LGBM (importance features > 0) | 0.938958 | 0.934486 | ... | ... | ... | false |\n",
    "| onehot-encode + standard scale + LGBM (importance features > 0) (tuned) | 0.943426 | 0.941412 | ... | ... | ... | false |\n",
    "| onehot-encode + standard scale + LGBM (importance features > 0) + SMOTE | 0.940949 | 0.938291 | ... | 0.009 | ... | false |\n",
    "| onehot-encode + standard scale + LGBM (importance features > 0) + SMOTETomek | 0.940334 | 0.936423 | ... | 0.0089 | ... | false |\n",
    "| poly degree 2 + onehot-encode + standard scale + XGB | 0.935926 | 0.932204 | ... | ... | ... | false |\n",
    "| poly degree 2 + onehot-encode + standard scale + LGBM | 0.939476 | 0.934111 | ... | ... | ... | false |\n",
    "| poly degree 2 + onehot-encode + standard scale + LGBM (importance features > 0) | 0.939528 | 0.934111 | ... | ... | ... | false |\n",
    "| poly degree 2 + onehot-encode + standard scale + LGBM (importance features > 0) + SMOTE | 0.941007 | 0.936867 | ... | ... | ... | false |\n",
    "| poly degree 2 + onehot-encode + standard scale + LGBM (importance features > 0) + SMOTETomek | 0.939552 | 0.936260 | ... | ... | ... | false |\n"
   ]
  },
  {
   "cell_type": "code",
   "execution_count": null,
   "metadata": {},
   "outputs": [],
   "source": [
    "0.942946\n",
    "0.942849"
   ]
  }
 ],
 "metadata": {
  "kernelspec": {
   "display_name": "venv",
   "language": "python",
   "name": "python3"
  },
  "language_info": {
   "codemirror_mode": {
    "name": "ipython",
    "version": 3
   },
   "file_extension": ".py",
   "mimetype": "text/x-python",
   "name": "python",
   "nbconvert_exporter": "python",
   "pygments_lexer": "ipython3",
   "version": "3.10.0"
  },
  "orig_nbformat": 4
 },
 "nbformat": 4,
 "nbformat_minor": 2
}
